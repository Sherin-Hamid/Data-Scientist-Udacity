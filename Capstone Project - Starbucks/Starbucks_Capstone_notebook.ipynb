{
 "cells": [
  {
   "cell_type": "markdown",
   "metadata": {},
   "source": [
    "# Starbucks Capstone Challenge\n",
    "\n",
    "### Introduction\n",
    "\n",
    "This data set contains simulated data that mimics customer behavior on the Starbucks rewards mobile app. Once every few days, Starbucks sends out an offer to users of the mobile app. An offer can be merely an advertisement for a drink or an actual offer such as a discount or BOGO (buy one get one free). Some users might not receive any offer during certain weeks. \n",
    "\n",
    "Not all users receive the same offer, and that is the challenge to solve with this data set.\n",
    "\n",
    "Our task is to combine transaction, demographic and offer data to determine which demographic groups respond best to which offer type. This data set is a simplified version of the real Starbucks app because the underlying simulator only has one product whereas Starbucks actually sells dozens of products.\n",
    "\n",
    "Every offer has a validity period before the offer expires. As an example, a BOGO offer might be valid for only 5 days. You'll see in the data set that informational offers have a validity period even though these ads are merely providing information about a product; for example, if an informational offer has 7 days of validity, you can assume the customer is feeling the influence of the offer for 7 days after receiving the advertisement.\n",
    "\n",
    "We are given transactional data showing user purchases made on the app including the timestamp of purchase and the amount of money spent on a purchase. This transactional data also has a record for each offer that a user receives as well as a record for when a user actually views the offer. There are also records for when a user completes an offer. \n",
    "\n",
    "Keep in mind as well that someone using the app might make a purchase through the app without having received an offer or seen an offer.\n",
    "\n",
    "### Example\n",
    "\n",
    "To give an example, a user could receive a discount offer buy 10 dollars get 2 off on Monday. The offer is valid for 10 days from receipt. If the customer accumulates at least 10 dollars in purchases during the validity period, the customer completes the offer.\n",
    "\n",
    "However, there are a few things to watch out for in this data set. Customers do not opt into the offers that they receive; in other words, a user can receive an offer, never actually view the offer, and still complete the offer. For example, a user might receive the \"buy 10 dollars get 2 dollars off offer\", but the user never opens the offer during the 10 day validity period. The customer spends 15 dollars during those ten days. There will be an offer completion record in the data set; however, the customer was not influenced by the offer because the customer never viewed the offer.\n",
    "\n",
    "### Cleaning\n",
    "\n",
    "This makes data cleaning especially important and tricky.\n",
    "\n",
    "We'll also want to take into account that some demographic groups will make purchases even if they don't receive an offer. From a business perspective, if a customer is going to make a 10 dollar purchase without an offer anyway, we wouldn't want to send a buy 10 dollars get 2 dollars off offer. We'll want to try to assess what a certain demographic group will buy when not receiving any offers."
   ]
  },
  {
   "cell_type": "markdown",
   "metadata": {},
   "source": [
    "# Data Sets\n",
    "\n",
    "The data is contained in three files:\n",
    "\n",
    "* portfolio.json - containing offer ids and meta data about each offer (duration, type, etc.)\n",
    "* profile.json - demographic data for each customer\n",
    "* transcript.json - records for transactions, offers received, offers viewed, and offers completed\n",
    "\n",
    "Here is the schema and explanation of each variable in the files:\n",
    "\n",
    "**portfolio.json**\n",
    "* id (string) - offer id\n",
    "* offer_type (string) - type of offer ie BOGO, discount, informational\n",
    "* difficulty (int) - minimum required spend to complete an offer\n",
    "* reward (int) - reward given for completing an offer\n",
    "* duration (int) - time for offer to be open, in days\n",
    "* channels (list of strings)\n",
    "\n",
    "**profile.json**\n",
    "* age (int) - age of the customer \n",
    "* became_member_on (int) - date when customer created an app account\n",
    "* gender (str) - gender of the customer (note some entries contain 'O' for other rather than M or F)\n",
    "* id (str) - customer id\n",
    "* income (float) - customer's income\n",
    "\n",
    "**transcript.json**\n",
    "* event (str) - record description (ie transaction, offer received, offer viewed, etc.)\n",
    "* person (str) - customer id\n",
    "* time (int) - time in hours since start of test. The data begins at time t=0\n",
    "* value - (dict of strings) - either an offer id or transaction amount depending on the record\n"
   ]
  },
  {
   "cell_type": "code",
   "execution_count": 61,
   "metadata": {},
   "outputs": [],
   "source": [
    "import pandas as pd\n",
    "import numpy as np\n",
    "import matplotlib.pyplot as plt\n",
    "import seaborn as sns\n",
    "import math\n",
    "import json\n",
    "% matplotlib inline\n",
    "\n",
    "from datetime import datetime\n",
    "\n",
    "from sklearn.preprocessing import MinMaxScaler\n",
    "from sklearn.model_selection import train_test_split, GridSearchCV\n",
    "from sklearn.svm import SVC\n",
    "from sklearn.tree import DecisionTreeClassifier\n",
    "from sklearn.linear_model import LogisticRegression\n",
    "from sklearn.ensemble import RandomForestClassifier\n",
    "from sklearn.ensemble import GradientBoostingClassifier\n",
    "from sklearn.metrics import accuracy_score\n",
    "\n",
    "# read in the json files\n",
    "portfolio = pd.read_json('data/portfolio.json', orient='records', lines=True)\n",
    "profile = pd.read_json('data/profile.json', orient='records', lines=True)\n",
    "transcript = pd.read_json('data/transcript.json', orient='records', lines=True)"
   ]
  },
  {
   "cell_type": "markdown",
   "metadata": {},
   "source": [
    "# Exploring Data"
   ]
  },
  {
   "cell_type": "code",
   "execution_count": 2,
   "metadata": {},
   "outputs": [
    {
     "data": {
      "text/html": [
       "<div>\n",
       "<style scoped>\n",
       "    .dataframe tbody tr th:only-of-type {\n",
       "        vertical-align: middle;\n",
       "    }\n",
       "\n",
       "    .dataframe tbody tr th {\n",
       "        vertical-align: top;\n",
       "    }\n",
       "\n",
       "    .dataframe thead th {\n",
       "        text-align: right;\n",
       "    }\n",
       "</style>\n",
       "<table border=\"1\" class=\"dataframe\">\n",
       "  <thead>\n",
       "    <tr style=\"text-align: right;\">\n",
       "      <th></th>\n",
       "      <th>channels</th>\n",
       "      <th>difficulty</th>\n",
       "      <th>duration</th>\n",
       "      <th>id</th>\n",
       "      <th>offer_type</th>\n",
       "      <th>reward</th>\n",
       "    </tr>\n",
       "  </thead>\n",
       "  <tbody>\n",
       "    <tr>\n",
       "      <th>0</th>\n",
       "      <td>[email, mobile, social]</td>\n",
       "      <td>10</td>\n",
       "      <td>7</td>\n",
       "      <td>ae264e3637204a6fb9bb56bc8210ddfd</td>\n",
       "      <td>bogo</td>\n",
       "      <td>10</td>\n",
       "    </tr>\n",
       "    <tr>\n",
       "      <th>1</th>\n",
       "      <td>[web, email, mobile, social]</td>\n",
       "      <td>10</td>\n",
       "      <td>5</td>\n",
       "      <td>4d5c57ea9a6940dd891ad53e9dbe8da0</td>\n",
       "      <td>bogo</td>\n",
       "      <td>10</td>\n",
       "    </tr>\n",
       "    <tr>\n",
       "      <th>2</th>\n",
       "      <td>[web, email, mobile]</td>\n",
       "      <td>0</td>\n",
       "      <td>4</td>\n",
       "      <td>3f207df678b143eea3cee63160fa8bed</td>\n",
       "      <td>informational</td>\n",
       "      <td>0</td>\n",
       "    </tr>\n",
       "    <tr>\n",
       "      <th>3</th>\n",
       "      <td>[web, email, mobile]</td>\n",
       "      <td>5</td>\n",
       "      <td>7</td>\n",
       "      <td>9b98b8c7a33c4b65b9aebfe6a799e6d9</td>\n",
       "      <td>bogo</td>\n",
       "      <td>5</td>\n",
       "    </tr>\n",
       "    <tr>\n",
       "      <th>4</th>\n",
       "      <td>[web, email]</td>\n",
       "      <td>20</td>\n",
       "      <td>10</td>\n",
       "      <td>0b1e1539f2cc45b7b9fa7c272da2e1d7</td>\n",
       "      <td>discount</td>\n",
       "      <td>5</td>\n",
       "    </tr>\n",
       "  </tbody>\n",
       "</table>\n",
       "</div>"
      ],
      "text/plain": [
       "                       channels  difficulty  duration  \\\n",
       "0       [email, mobile, social]          10         7   \n",
       "1  [web, email, mobile, social]          10         5   \n",
       "2          [web, email, mobile]           0         4   \n",
       "3          [web, email, mobile]           5         7   \n",
       "4                  [web, email]          20        10   \n",
       "\n",
       "                                 id     offer_type  reward  \n",
       "0  ae264e3637204a6fb9bb56bc8210ddfd           bogo      10  \n",
       "1  4d5c57ea9a6940dd891ad53e9dbe8da0           bogo      10  \n",
       "2  3f207df678b143eea3cee63160fa8bed  informational       0  \n",
       "3  9b98b8c7a33c4b65b9aebfe6a799e6d9           bogo       5  \n",
       "4  0b1e1539f2cc45b7b9fa7c272da2e1d7       discount       5  "
      ]
     },
     "execution_count": 2,
     "metadata": {},
     "output_type": "execute_result"
    }
   ],
   "source": [
    "portfolio.head()"
   ]
  },
  {
   "cell_type": "code",
   "execution_count": 3,
   "metadata": {},
   "outputs": [
    {
     "name": "stdout",
     "output_type": "stream",
     "text": [
      "<class 'pandas.core.frame.DataFrame'>\n",
      "RangeIndex: 10 entries, 0 to 9\n",
      "Data columns (total 6 columns):\n",
      "channels      10 non-null object\n",
      "difficulty    10 non-null int64\n",
      "duration      10 non-null int64\n",
      "id            10 non-null object\n",
      "offer_type    10 non-null object\n",
      "reward        10 non-null int64\n",
      "dtypes: int64(3), object(3)\n",
      "memory usage: 560.0+ bytes\n"
     ]
    }
   ],
   "source": [
    "portfolio.info()"
   ]
  },
  {
   "cell_type": "code",
   "execution_count": 4,
   "metadata": {},
   "outputs": [
    {
     "data": {
      "text/html": [
       "<div>\n",
       "<style scoped>\n",
       "    .dataframe tbody tr th:only-of-type {\n",
       "        vertical-align: middle;\n",
       "    }\n",
       "\n",
       "    .dataframe tbody tr th {\n",
       "        vertical-align: top;\n",
       "    }\n",
       "\n",
       "    .dataframe thead th {\n",
       "        text-align: right;\n",
       "    }\n",
       "</style>\n",
       "<table border=\"1\" class=\"dataframe\">\n",
       "  <thead>\n",
       "    <tr style=\"text-align: right;\">\n",
       "      <th></th>\n",
       "      <th>difficulty</th>\n",
       "      <th>duration</th>\n",
       "      <th>reward</th>\n",
       "    </tr>\n",
       "  </thead>\n",
       "  <tbody>\n",
       "    <tr>\n",
       "      <th>count</th>\n",
       "      <td>10.000000</td>\n",
       "      <td>10.000000</td>\n",
       "      <td>10.000000</td>\n",
       "    </tr>\n",
       "    <tr>\n",
       "      <th>mean</th>\n",
       "      <td>7.700000</td>\n",
       "      <td>6.500000</td>\n",
       "      <td>4.200000</td>\n",
       "    </tr>\n",
       "    <tr>\n",
       "      <th>std</th>\n",
       "      <td>5.831905</td>\n",
       "      <td>2.321398</td>\n",
       "      <td>3.583915</td>\n",
       "    </tr>\n",
       "    <tr>\n",
       "      <th>min</th>\n",
       "      <td>0.000000</td>\n",
       "      <td>3.000000</td>\n",
       "      <td>0.000000</td>\n",
       "    </tr>\n",
       "    <tr>\n",
       "      <th>25%</th>\n",
       "      <td>5.000000</td>\n",
       "      <td>5.000000</td>\n",
       "      <td>2.000000</td>\n",
       "    </tr>\n",
       "    <tr>\n",
       "      <th>50%</th>\n",
       "      <td>8.500000</td>\n",
       "      <td>7.000000</td>\n",
       "      <td>4.000000</td>\n",
       "    </tr>\n",
       "    <tr>\n",
       "      <th>75%</th>\n",
       "      <td>10.000000</td>\n",
       "      <td>7.000000</td>\n",
       "      <td>5.000000</td>\n",
       "    </tr>\n",
       "    <tr>\n",
       "      <th>max</th>\n",
       "      <td>20.000000</td>\n",
       "      <td>10.000000</td>\n",
       "      <td>10.000000</td>\n",
       "    </tr>\n",
       "  </tbody>\n",
       "</table>\n",
       "</div>"
      ],
      "text/plain": [
       "       difficulty   duration     reward\n",
       "count   10.000000  10.000000  10.000000\n",
       "mean     7.700000   6.500000   4.200000\n",
       "std      5.831905   2.321398   3.583915\n",
       "min      0.000000   3.000000   0.000000\n",
       "25%      5.000000   5.000000   2.000000\n",
       "50%      8.500000   7.000000   4.000000\n",
       "75%     10.000000   7.000000   5.000000\n",
       "max     20.000000  10.000000  10.000000"
      ]
     },
     "execution_count": 4,
     "metadata": {},
     "output_type": "execute_result"
    }
   ],
   "source": [
    "portfolio.describe()"
   ]
  },
  {
   "cell_type": "code",
   "execution_count": 5,
   "metadata": {},
   "outputs": [
    {
     "data": {
      "text/html": [
       "<div>\n",
       "<style scoped>\n",
       "    .dataframe tbody tr th:only-of-type {\n",
       "        vertical-align: middle;\n",
       "    }\n",
       "\n",
       "    .dataframe tbody tr th {\n",
       "        vertical-align: top;\n",
       "    }\n",
       "\n",
       "    .dataframe thead th {\n",
       "        text-align: right;\n",
       "    }\n",
       "</style>\n",
       "<table border=\"1\" class=\"dataframe\">\n",
       "  <thead>\n",
       "    <tr style=\"text-align: right;\">\n",
       "      <th></th>\n",
       "      <th>age</th>\n",
       "      <th>became_member_on</th>\n",
       "      <th>gender</th>\n",
       "      <th>id</th>\n",
       "      <th>income</th>\n",
       "    </tr>\n",
       "  </thead>\n",
       "  <tbody>\n",
       "    <tr>\n",
       "      <th>0</th>\n",
       "      <td>118</td>\n",
       "      <td>20170212</td>\n",
       "      <td>None</td>\n",
       "      <td>68be06ca386d4c31939f3a4f0e3dd783</td>\n",
       "      <td>NaN</td>\n",
       "    </tr>\n",
       "    <tr>\n",
       "      <th>1</th>\n",
       "      <td>55</td>\n",
       "      <td>20170715</td>\n",
       "      <td>F</td>\n",
       "      <td>0610b486422d4921ae7d2bf64640c50b</td>\n",
       "      <td>112000.0</td>\n",
       "    </tr>\n",
       "    <tr>\n",
       "      <th>2</th>\n",
       "      <td>118</td>\n",
       "      <td>20180712</td>\n",
       "      <td>None</td>\n",
       "      <td>38fe809add3b4fcf9315a9694bb96ff5</td>\n",
       "      <td>NaN</td>\n",
       "    </tr>\n",
       "    <tr>\n",
       "      <th>3</th>\n",
       "      <td>75</td>\n",
       "      <td>20170509</td>\n",
       "      <td>F</td>\n",
       "      <td>78afa995795e4d85b5d9ceeca43f5fef</td>\n",
       "      <td>100000.0</td>\n",
       "    </tr>\n",
       "    <tr>\n",
       "      <th>4</th>\n",
       "      <td>118</td>\n",
       "      <td>20170804</td>\n",
       "      <td>None</td>\n",
       "      <td>a03223e636434f42ac4c3df47e8bac43</td>\n",
       "      <td>NaN</td>\n",
       "    </tr>\n",
       "  </tbody>\n",
       "</table>\n",
       "</div>"
      ],
      "text/plain": [
       "   age  became_member_on gender                                id    income\n",
       "0  118          20170212   None  68be06ca386d4c31939f3a4f0e3dd783       NaN\n",
       "1   55          20170715      F  0610b486422d4921ae7d2bf64640c50b  112000.0\n",
       "2  118          20180712   None  38fe809add3b4fcf9315a9694bb96ff5       NaN\n",
       "3   75          20170509      F  78afa995795e4d85b5d9ceeca43f5fef  100000.0\n",
       "4  118          20170804   None  a03223e636434f42ac4c3df47e8bac43       NaN"
      ]
     },
     "execution_count": 5,
     "metadata": {},
     "output_type": "execute_result"
    }
   ],
   "source": [
    "profile.head()"
   ]
  },
  {
   "cell_type": "code",
   "execution_count": 6,
   "metadata": {},
   "outputs": [
    {
     "name": "stdout",
     "output_type": "stream",
     "text": [
      "<class 'pandas.core.frame.DataFrame'>\n",
      "RangeIndex: 17000 entries, 0 to 16999\n",
      "Data columns (total 5 columns):\n",
      "age                 17000 non-null int64\n",
      "became_member_on    17000 non-null int64\n",
      "gender              14825 non-null object\n",
      "id                  17000 non-null object\n",
      "income              14825 non-null float64\n",
      "dtypes: float64(1), int64(2), object(2)\n",
      "memory usage: 664.1+ KB\n"
     ]
    }
   ],
   "source": [
    "profile.info()"
   ]
  },
  {
   "cell_type": "code",
   "execution_count": 7,
   "metadata": {},
   "outputs": [
    {
     "data": {
      "text/html": [
       "<div>\n",
       "<style scoped>\n",
       "    .dataframe tbody tr th:only-of-type {\n",
       "        vertical-align: middle;\n",
       "    }\n",
       "\n",
       "    .dataframe tbody tr th {\n",
       "        vertical-align: top;\n",
       "    }\n",
       "\n",
       "    .dataframe thead th {\n",
       "        text-align: right;\n",
       "    }\n",
       "</style>\n",
       "<table border=\"1\" class=\"dataframe\">\n",
       "  <thead>\n",
       "    <tr style=\"text-align: right;\">\n",
       "      <th></th>\n",
       "      <th>age</th>\n",
       "      <th>became_member_on</th>\n",
       "      <th>income</th>\n",
       "    </tr>\n",
       "  </thead>\n",
       "  <tbody>\n",
       "    <tr>\n",
       "      <th>count</th>\n",
       "      <td>17000.000000</td>\n",
       "      <td>1.700000e+04</td>\n",
       "      <td>14825.000000</td>\n",
       "    </tr>\n",
       "    <tr>\n",
       "      <th>mean</th>\n",
       "      <td>62.531412</td>\n",
       "      <td>2.016703e+07</td>\n",
       "      <td>65404.991568</td>\n",
       "    </tr>\n",
       "    <tr>\n",
       "      <th>std</th>\n",
       "      <td>26.738580</td>\n",
       "      <td>1.167750e+04</td>\n",
       "      <td>21598.299410</td>\n",
       "    </tr>\n",
       "    <tr>\n",
       "      <th>min</th>\n",
       "      <td>18.000000</td>\n",
       "      <td>2.013073e+07</td>\n",
       "      <td>30000.000000</td>\n",
       "    </tr>\n",
       "    <tr>\n",
       "      <th>25%</th>\n",
       "      <td>45.000000</td>\n",
       "      <td>2.016053e+07</td>\n",
       "      <td>49000.000000</td>\n",
       "    </tr>\n",
       "    <tr>\n",
       "      <th>50%</th>\n",
       "      <td>58.000000</td>\n",
       "      <td>2.017080e+07</td>\n",
       "      <td>64000.000000</td>\n",
       "    </tr>\n",
       "    <tr>\n",
       "      <th>75%</th>\n",
       "      <td>73.000000</td>\n",
       "      <td>2.017123e+07</td>\n",
       "      <td>80000.000000</td>\n",
       "    </tr>\n",
       "    <tr>\n",
       "      <th>max</th>\n",
       "      <td>118.000000</td>\n",
       "      <td>2.018073e+07</td>\n",
       "      <td>120000.000000</td>\n",
       "    </tr>\n",
       "  </tbody>\n",
       "</table>\n",
       "</div>"
      ],
      "text/plain": [
       "                age  became_member_on         income\n",
       "count  17000.000000      1.700000e+04   14825.000000\n",
       "mean      62.531412      2.016703e+07   65404.991568\n",
       "std       26.738580      1.167750e+04   21598.299410\n",
       "min       18.000000      2.013073e+07   30000.000000\n",
       "25%       45.000000      2.016053e+07   49000.000000\n",
       "50%       58.000000      2.017080e+07   64000.000000\n",
       "75%       73.000000      2.017123e+07   80000.000000\n",
       "max      118.000000      2.018073e+07  120000.000000"
      ]
     },
     "execution_count": 7,
     "metadata": {},
     "output_type": "execute_result"
    }
   ],
   "source": [
    "profile.describe()"
   ]
  },
  {
   "cell_type": "code",
   "execution_count": 8,
   "metadata": {},
   "outputs": [
    {
     "data": {
      "text/html": [
       "<div>\n",
       "<style scoped>\n",
       "    .dataframe tbody tr th:only-of-type {\n",
       "        vertical-align: middle;\n",
       "    }\n",
       "\n",
       "    .dataframe tbody tr th {\n",
       "        vertical-align: top;\n",
       "    }\n",
       "\n",
       "    .dataframe thead th {\n",
       "        text-align: right;\n",
       "    }\n",
       "</style>\n",
       "<table border=\"1\" class=\"dataframe\">\n",
       "  <thead>\n",
       "    <tr style=\"text-align: right;\">\n",
       "      <th></th>\n",
       "      <th>event</th>\n",
       "      <th>person</th>\n",
       "      <th>time</th>\n",
       "      <th>value</th>\n",
       "    </tr>\n",
       "  </thead>\n",
       "  <tbody>\n",
       "    <tr>\n",
       "      <th>0</th>\n",
       "      <td>offer received</td>\n",
       "      <td>78afa995795e4d85b5d9ceeca43f5fef</td>\n",
       "      <td>0</td>\n",
       "      <td>{'offer id': '9b98b8c7a33c4b65b9aebfe6a799e6d9'}</td>\n",
       "    </tr>\n",
       "    <tr>\n",
       "      <th>1</th>\n",
       "      <td>offer received</td>\n",
       "      <td>a03223e636434f42ac4c3df47e8bac43</td>\n",
       "      <td>0</td>\n",
       "      <td>{'offer id': '0b1e1539f2cc45b7b9fa7c272da2e1d7'}</td>\n",
       "    </tr>\n",
       "    <tr>\n",
       "      <th>2</th>\n",
       "      <td>offer received</td>\n",
       "      <td>e2127556f4f64592b11af22de27a7932</td>\n",
       "      <td>0</td>\n",
       "      <td>{'offer id': '2906b810c7d4411798c6938adc9daaa5'}</td>\n",
       "    </tr>\n",
       "    <tr>\n",
       "      <th>3</th>\n",
       "      <td>offer received</td>\n",
       "      <td>8ec6ce2a7e7949b1bf142def7d0e0586</td>\n",
       "      <td>0</td>\n",
       "      <td>{'offer id': 'fafdcd668e3743c1bb461111dcafc2a4'}</td>\n",
       "    </tr>\n",
       "    <tr>\n",
       "      <th>4</th>\n",
       "      <td>offer received</td>\n",
       "      <td>68617ca6246f4fbc85e91a2a49552598</td>\n",
       "      <td>0</td>\n",
       "      <td>{'offer id': '4d5c57ea9a6940dd891ad53e9dbe8da0'}</td>\n",
       "    </tr>\n",
       "  </tbody>\n",
       "</table>\n",
       "</div>"
      ],
      "text/plain": [
       "            event                            person  time  \\\n",
       "0  offer received  78afa995795e4d85b5d9ceeca43f5fef     0   \n",
       "1  offer received  a03223e636434f42ac4c3df47e8bac43     0   \n",
       "2  offer received  e2127556f4f64592b11af22de27a7932     0   \n",
       "3  offer received  8ec6ce2a7e7949b1bf142def7d0e0586     0   \n",
       "4  offer received  68617ca6246f4fbc85e91a2a49552598     0   \n",
       "\n",
       "                                              value  \n",
       "0  {'offer id': '9b98b8c7a33c4b65b9aebfe6a799e6d9'}  \n",
       "1  {'offer id': '0b1e1539f2cc45b7b9fa7c272da2e1d7'}  \n",
       "2  {'offer id': '2906b810c7d4411798c6938adc9daaa5'}  \n",
       "3  {'offer id': 'fafdcd668e3743c1bb461111dcafc2a4'}  \n",
       "4  {'offer id': '4d5c57ea9a6940dd891ad53e9dbe8da0'}  "
      ]
     },
     "execution_count": 8,
     "metadata": {},
     "output_type": "execute_result"
    }
   ],
   "source": [
    "transcript.head()"
   ]
  },
  {
   "cell_type": "code",
   "execution_count": 9,
   "metadata": {},
   "outputs": [
    {
     "name": "stdout",
     "output_type": "stream",
     "text": [
      "<class 'pandas.core.frame.DataFrame'>\n",
      "RangeIndex: 306534 entries, 0 to 306533\n",
      "Data columns (total 4 columns):\n",
      "event     306534 non-null object\n",
      "person    306534 non-null object\n",
      "time      306534 non-null int64\n",
      "value     306534 non-null object\n",
      "dtypes: int64(1), object(3)\n",
      "memory usage: 9.4+ MB\n"
     ]
    }
   ],
   "source": [
    "transcript.info()"
   ]
  },
  {
   "cell_type": "code",
   "execution_count": 10,
   "metadata": {},
   "outputs": [
    {
     "data": {
      "text/html": [
       "<div>\n",
       "<style scoped>\n",
       "    .dataframe tbody tr th:only-of-type {\n",
       "        vertical-align: middle;\n",
       "    }\n",
       "\n",
       "    .dataframe tbody tr th {\n",
       "        vertical-align: top;\n",
       "    }\n",
       "\n",
       "    .dataframe thead th {\n",
       "        text-align: right;\n",
       "    }\n",
       "</style>\n",
       "<table border=\"1\" class=\"dataframe\">\n",
       "  <thead>\n",
       "    <tr style=\"text-align: right;\">\n",
       "      <th></th>\n",
       "      <th>time</th>\n",
       "    </tr>\n",
       "  </thead>\n",
       "  <tbody>\n",
       "    <tr>\n",
       "      <th>count</th>\n",
       "      <td>306534.000000</td>\n",
       "    </tr>\n",
       "    <tr>\n",
       "      <th>mean</th>\n",
       "      <td>366.382940</td>\n",
       "    </tr>\n",
       "    <tr>\n",
       "      <th>std</th>\n",
       "      <td>200.326314</td>\n",
       "    </tr>\n",
       "    <tr>\n",
       "      <th>min</th>\n",
       "      <td>0.000000</td>\n",
       "    </tr>\n",
       "    <tr>\n",
       "      <th>25%</th>\n",
       "      <td>186.000000</td>\n",
       "    </tr>\n",
       "    <tr>\n",
       "      <th>50%</th>\n",
       "      <td>408.000000</td>\n",
       "    </tr>\n",
       "    <tr>\n",
       "      <th>75%</th>\n",
       "      <td>528.000000</td>\n",
       "    </tr>\n",
       "    <tr>\n",
       "      <th>max</th>\n",
       "      <td>714.000000</td>\n",
       "    </tr>\n",
       "  </tbody>\n",
       "</table>\n",
       "</div>"
      ],
      "text/plain": [
       "                time\n",
       "count  306534.000000\n",
       "mean      366.382940\n",
       "std       200.326314\n",
       "min         0.000000\n",
       "25%       186.000000\n",
       "50%       408.000000\n",
       "75%       528.000000\n",
       "max       714.000000"
      ]
     },
     "execution_count": 10,
     "metadata": {},
     "output_type": "execute_result"
    }
   ],
   "source": [
    "transcript.describe()"
   ]
  },
  {
   "cell_type": "markdown",
   "metadata": {},
   "source": [
    "# Exploratory Data Visualization"
   ]
  },
  {
   "cell_type": "code",
   "execution_count": 11,
   "metadata": {},
   "outputs": [
    {
     "data": {
      "image/png": "[encoded data removed]",
      "text/plain": [
       "<Figure size 432x288 with 1 Axes>"
      ]
     },
     "metadata": {
      "needs_background": "light"
     },
     "output_type": "display_data"
    }
   ],
   "source": [
    "# explore age distribution\n",
    "sns.histplot(profile['age'], bins = 10).set_title('Age Distribution');"
   ]
  },
  {
   "cell_type": "code",
   "execution_count": 12,
   "metadata": {},
   "outputs": [
    {
     "data": {
      "image/png": "[encoded data removed]",
      "text/plain": [
       "<Figure size 432x288 with 1 Axes>"
      ]
     },
     "metadata": {
      "needs_background": "light"
     },
     "output_type": "display_data"
    }
   ],
   "source": [
    "# explore gender distribution\n",
    "sns.barplot(x = profile['gender'].value_counts().index, y = profile['gender'].value_counts(), color = 'steelblue').set(xlabel='Gender', ylabel='Count', title='Gender Distribution');"
   ]
  },
  {
   "cell_type": "code",
   "execution_count": 13,
   "metadata": {},
   "outputs": [
    {
     "data": {
      "image/png": "[encoded data removed]",
      "text/plain": [
       "<Figure size 432x288 with 1 Axes>"
      ]
     },
     "metadata": {
      "needs_background": "light"
     },
     "output_type": "display_data"
    }
   ],
   "source": [
    "# explore income distribution\n",
    "sns.histplot(profile['income'], bins = 10).set_title('Income Distribution');"
   ]
  },
  {
   "cell_type": "code",
   "execution_count": 14,
   "metadata": {},
   "outputs": [
    {
     "data": {
      "image/png": "[encoded data removed]",
      "text/plain": [
       "<Figure size 432x288 with 1 Axes>"
      ]
     },
     "metadata": {
      "needs_background": "light"
     },
     "output_type": "display_data"
    }
   ],
   "source": [
    "# explore membership year distribution\n",
    "y = profile.groupby(profile['became_member_on'].apply(lambda x: str(x)[:4]))['id'].count() \n",
    "sns.barplot(x = y.index, y = y.values, color = 'steelblue').set(xlabel='Membership Year', ylabel='Count', title='Membership Year Distribution');"
   ]
  },
  {
   "cell_type": "markdown",
   "metadata": {},
   "source": [
    "# Data Cleaning and Processing"
   ]
  },
  {
   "cell_type": "code",
   "execution_count": 15,
   "metadata": {},
   "outputs": [],
   "source": [
    "# Copy the original dataframes into working ones to clean and act on\n",
    "\n",
    "pro = profile.copy()\n",
    "port = portfolio.copy()\n",
    "trans = transcript.copy()"
   ]
  },
  {
   "cell_type": "markdown",
   "metadata": {},
   "source": [
    "## Clean the portfolio dataframe"
   ]
  },
  {
   "cell_type": "code",
   "execution_count": 16,
   "metadata": {},
   "outputs": [],
   "source": [
    "# rename the id column to be more unique and informative\n",
    "port.rename(columns = {'id': 'offer_id'}, inplace = True)"
   ]
  },
  {
   "cell_type": "code",
   "execution_count": 17,
   "metadata": {},
   "outputs": [],
   "source": [
    "# Convert the channels column in protfolio into 4 different columns based on the channel type\n",
    "\n",
    "if 'channels' in port: # temporary until I finish coding and running\n",
    "    port['web'] = port['channels'].apply(lambda x: 1 if 'web' in x else 0)\n",
    "    port['email'] = port['channels'].apply(lambda x: 1 if 'email' in x else 0)\n",
    "    port['mobile'] = port['channels'].apply(lambda x: 1 if 'mobile' in x else 0)\n",
    "    port['social'] = port['channels'].apply(lambda x: 1 if 'social' in x else 0)\n",
    "\n",
    "    port.drop('channels', axis = 1, inplace = True)"
   ]
  },
  {
   "cell_type": "code",
   "execution_count": 18,
   "metadata": {},
   "outputs": [
    {
     "name": "stdout",
     "output_type": "stream",
     "text": [
      "Index(['bogo', 'discount', 'informational'], dtype='object')\n"
     ]
    }
   ],
   "source": [
    "# Map the offer_type to integer values\n",
    "port['offer_type'] = port['offer_type'].astype('category')\n",
    "print(port['offer_type'].cat.categories)\n",
    "port['offer_type'] = port['offer_type'].cat.codes"
   ]
  },
  {
   "cell_type": "code",
   "execution_count": 19,
   "metadata": {},
   "outputs": [
    {
     "data": {
      "text/html": [
       "<div>\n",
       "<style scoped>\n",
       "    .dataframe tbody tr th:only-of-type {\n",
       "        vertical-align: middle;\n",
       "    }\n",
       "\n",
       "    .dataframe tbody tr th {\n",
       "        vertical-align: top;\n",
       "    }\n",
       "\n",
       "    .dataframe thead th {\n",
       "        text-align: right;\n",
       "    }\n",
       "</style>\n",
       "<table border=\"1\" class=\"dataframe\">\n",
       "  <thead>\n",
       "    <tr style=\"text-align: right;\">\n",
       "      <th></th>\n",
       "      <th>difficulty</th>\n",
       "      <th>duration</th>\n",
       "      <th>offer_id</th>\n",
       "      <th>offer_type</th>\n",
       "      <th>reward</th>\n",
       "      <th>web</th>\n",
       "      <th>email</th>\n",
       "      <th>mobile</th>\n",
       "      <th>social</th>\n",
       "    </tr>\n",
       "  </thead>\n",
       "  <tbody>\n",
       "    <tr>\n",
       "      <th>0</th>\n",
       "      <td>10</td>\n",
       "      <td>7</td>\n",
       "      <td>ae264e3637204a6fb9bb56bc8210ddfd</td>\n",
       "      <td>0</td>\n",
       "      <td>10</td>\n",
       "      <td>0</td>\n",
       "      <td>1</td>\n",
       "      <td>1</td>\n",
       "      <td>1</td>\n",
       "    </tr>\n",
       "    <tr>\n",
       "      <th>1</th>\n",
       "      <td>10</td>\n",
       "      <td>5</td>\n",
       "      <td>4d5c57ea9a6940dd891ad53e9dbe8da0</td>\n",
       "      <td>0</td>\n",
       "      <td>10</td>\n",
       "      <td>1</td>\n",
       "      <td>1</td>\n",
       "      <td>1</td>\n",
       "      <td>1</td>\n",
       "    </tr>\n",
       "    <tr>\n",
       "      <th>2</th>\n",
       "      <td>0</td>\n",
       "      <td>4</td>\n",
       "      <td>3f207df678b143eea3cee63160fa8bed</td>\n",
       "      <td>2</td>\n",
       "      <td>0</td>\n",
       "      <td>1</td>\n",
       "      <td>1</td>\n",
       "      <td>1</td>\n",
       "      <td>0</td>\n",
       "    </tr>\n",
       "    <tr>\n",
       "      <th>3</th>\n",
       "      <td>5</td>\n",
       "      <td>7</td>\n",
       "      <td>9b98b8c7a33c4b65b9aebfe6a799e6d9</td>\n",
       "      <td>0</td>\n",
       "      <td>5</td>\n",
       "      <td>1</td>\n",
       "      <td>1</td>\n",
       "      <td>1</td>\n",
       "      <td>0</td>\n",
       "    </tr>\n",
       "    <tr>\n",
       "      <th>4</th>\n",
       "      <td>20</td>\n",
       "      <td>10</td>\n",
       "      <td>0b1e1539f2cc45b7b9fa7c272da2e1d7</td>\n",
       "      <td>1</td>\n",
       "      <td>5</td>\n",
       "      <td>1</td>\n",
       "      <td>1</td>\n",
       "      <td>0</td>\n",
       "      <td>0</td>\n",
       "    </tr>\n",
       "  </tbody>\n",
       "</table>\n",
       "</div>"
      ],
      "text/plain": [
       "   difficulty  duration                          offer_id  offer_type  reward  \\\n",
       "0          10         7  ae264e3637204a6fb9bb56bc8210ddfd           0      10   \n",
       "1          10         5  4d5c57ea9a6940dd891ad53e9dbe8da0           0      10   \n",
       "2           0         4  3f207df678b143eea3cee63160fa8bed           2       0   \n",
       "3           5         7  9b98b8c7a33c4b65b9aebfe6a799e6d9           0       5   \n",
       "4          20        10  0b1e1539f2cc45b7b9fa7c272da2e1d7           1       5   \n",
       "\n",
       "   web  email  mobile  social  \n",
       "0    0      1       1       1  \n",
       "1    1      1       1       1  \n",
       "2    1      1       1       0  \n",
       "3    1      1       1       0  \n",
       "4    1      1       0       0  "
      ]
     },
     "execution_count": 19,
     "metadata": {},
     "output_type": "execute_result"
    }
   ],
   "source": [
    "port.head()"
   ]
  },
  {
   "cell_type": "markdown",
   "metadata": {},
   "source": [
    "## Clean the profile dataframe"
   ]
  },
  {
   "cell_type": "code",
   "execution_count": 20,
   "metadata": {},
   "outputs": [],
   "source": [
    "# rename the id column to be more unique and facilitate the merge later\n",
    "pro.rename(columns = {'id': 'user_id'}, inplace = True)"
   ]
  },
  {
   "cell_type": "code",
   "execution_count": 21,
   "metadata": {},
   "outputs": [],
   "source": [
    "# drop the outliers in the age column\n",
    "pro = pro[pro['age'] < 105]"
   ]
  },
  {
   "cell_type": "code",
   "execution_count": 22,
   "metadata": {},
   "outputs": [
    {
     "name": "stdout",
     "output_type": "stream",
     "text": [
      "<class 'pandas.core.frame.DataFrame'>\n",
      "Int64Index: 14825 entries, 1 to 16999\n",
      "Data columns (total 5 columns):\n",
      "age                 14825 non-null int64\n",
      "became_member_on    14825 non-null int64\n",
      "gender              14825 non-null object\n",
      "user_id             14825 non-null object\n",
      "income              14825 non-null float64\n",
      "dtypes: float64(1), int64(2), object(2)\n",
      "memory usage: 694.9+ KB\n"
     ]
    }
   ],
   "source": [
    "pro.info()"
   ]
  },
  {
   "cell_type": "code",
   "execution_count": 23,
   "metadata": {},
   "outputs": [
    {
     "name": "stdout",
     "output_type": "stream",
     "text": [
      "Index(['F', 'M', 'O'], dtype='object')\n"
     ]
    }
   ],
   "source": [
    "# Map gender to integer values\n",
    "pro['gender'] = pro['gender'].astype('category')\n",
    "print(pro['gender'].cat.categories)\n",
    "pro['gender'] = pro['gender'].cat.codes"
   ]
  },
  {
   "cell_type": "code",
   "execution_count": 24,
   "metadata": {},
   "outputs": [],
   "source": [
    "# replace the became_member_on column to the member_duration column that represent how long the user has been a member\n",
    "\n",
    "pro['member_duration'] = (datetime.today().date() - pd.to_datetime(pro['became_member_on'], format='%Y%m%d').dt.date).dt.days\n",
    "pro.drop('became_member_on', axis = 1, inplace = True)"
   ]
  },
  {
   "cell_type": "code",
   "execution_count": 25,
   "metadata": {},
   "outputs": [
    {
     "data": {
      "text/html": [
       "<div>\n",
       "<style scoped>\n",
       "    .dataframe tbody tr th:only-of-type {\n",
       "        vertical-align: middle;\n",
       "    }\n",
       "\n",
       "    .dataframe tbody tr th {\n",
       "        vertical-align: top;\n",
       "    }\n",
       "\n",
       "    .dataframe thead th {\n",
       "        text-align: right;\n",
       "    }\n",
       "</style>\n",
       "<table border=\"1\" class=\"dataframe\">\n",
       "  <thead>\n",
       "    <tr style=\"text-align: right;\">\n",
       "      <th></th>\n",
       "      <th>age</th>\n",
       "      <th>gender</th>\n",
       "      <th>user_id</th>\n",
       "      <th>income</th>\n",
       "      <th>member_duration</th>\n",
       "    </tr>\n",
       "  </thead>\n",
       "  <tbody>\n",
       "    <tr>\n",
       "      <th>1</th>\n",
       "      <td>55</td>\n",
       "      <td>0</td>\n",
       "      <td>0610b486422d4921ae7d2bf64640c50b</td>\n",
       "      <td>112000.0</td>\n",
       "      <td>1468</td>\n",
       "    </tr>\n",
       "    <tr>\n",
       "      <th>3</th>\n",
       "      <td>75</td>\n",
       "      <td>0</td>\n",
       "      <td>78afa995795e4d85b5d9ceeca43f5fef</td>\n",
       "      <td>100000.0</td>\n",
       "      <td>1535</td>\n",
       "    </tr>\n",
       "    <tr>\n",
       "      <th>5</th>\n",
       "      <td>68</td>\n",
       "      <td>1</td>\n",
       "      <td>e2127556f4f64592b11af22de27a7932</td>\n",
       "      <td>70000.0</td>\n",
       "      <td>1183</td>\n",
       "    </tr>\n",
       "    <tr>\n",
       "      <th>8</th>\n",
       "      <td>65</td>\n",
       "      <td>1</td>\n",
       "      <td>389bc3fa690240e798340f5a15918d5c</td>\n",
       "      <td>53000.0</td>\n",
       "      <td>1259</td>\n",
       "    </tr>\n",
       "    <tr>\n",
       "      <th>12</th>\n",
       "      <td>58</td>\n",
       "      <td>1</td>\n",
       "      <td>2eeac8d8feae4a8cad5a6af0499a211d</td>\n",
       "      <td>51000.0</td>\n",
       "      <td>1349</td>\n",
       "    </tr>\n",
       "  </tbody>\n",
       "</table>\n",
       "</div>"
      ],
      "text/plain": [
       "    age  gender                           user_id    income  member_duration\n",
       "1    55       0  0610b486422d4921ae7d2bf64640c50b  112000.0             1468\n",
       "3    75       0  78afa995795e4d85b5d9ceeca43f5fef  100000.0             1535\n",
       "5    68       1  e2127556f4f64592b11af22de27a7932   70000.0             1183\n",
       "8    65       1  389bc3fa690240e798340f5a15918d5c   53000.0             1259\n",
       "12   58       1  2eeac8d8feae4a8cad5a6af0499a211d   51000.0             1349"
      ]
     },
     "execution_count": 25,
     "metadata": {},
     "output_type": "execute_result"
    }
   ],
   "source": [
    "pro.head()"
   ]
  },
  {
   "cell_type": "markdown",
   "metadata": {},
   "source": [
    "## Clean the transcript dataframe"
   ]
  },
  {
   "cell_type": "code",
   "execution_count": 29,
   "metadata": {},
   "outputs": [
    {
     "data": {
      "text/plain": [
       "0          {'offer id': '9b98b8c7a33c4b65b9aebfe6a799e6d9'}\n",
       "1          {'offer id': '0b1e1539f2cc45b7b9fa7c272da2e1d7'}\n",
       "2          {'offer id': '2906b810c7d4411798c6938adc9daaa5'}\n",
       "3          {'offer id': 'fafdcd668e3743c1bb461111dcafc2a4'}\n",
       "4          {'offer id': '4d5c57ea9a6940dd891ad53e9dbe8da0'}\n",
       "5          {'offer id': 'f19421c1d4aa40978ebb69ca19b0e20d'}\n",
       "6          {'offer id': '2298d6c36e964ae4a3e7e9706d1fb8c2'}\n",
       "7          {'offer id': '3f207df678b143eea3cee63160fa8bed'}\n",
       "8          {'offer id': '0b1e1539f2cc45b7b9fa7c272da2e1d7'}\n",
       "9          {'offer id': '0b1e1539f2cc45b7b9fa7c272da2e1d7'}\n",
       "10         {'offer id': '0b1e1539f2cc45b7b9fa7c272da2e1d7'}\n",
       "11         {'offer id': '0b1e1539f2cc45b7b9fa7c272da2e1d7'}\n",
       "12         {'offer id': 'ae264e3637204a6fb9bb56bc8210ddfd'}\n",
       "13         {'offer id': '3f207df678b143eea3cee63160fa8bed'}\n",
       "14         {'offer id': '0b1e1539f2cc45b7b9fa7c272da2e1d7'}\n",
       "15         {'offer id': 'fafdcd668e3743c1bb461111dcafc2a4'}\n",
       "16         {'offer id': '0b1e1539f2cc45b7b9fa7c272da2e1d7'}\n",
       "17         {'offer id': '2906b810c7d4411798c6938adc9daaa5'}\n",
       "18         {'offer id': '9b98b8c7a33c4b65b9aebfe6a799e6d9'}\n",
       "19         {'offer id': 'ae264e3637204a6fb9bb56bc8210ddfd'}\n",
       "20         {'offer id': '2906b810c7d4411798c6938adc9daaa5'}\n",
       "21         {'offer id': '9b98b8c7a33c4b65b9aebfe6a799e6d9'}\n",
       "22         {'offer id': '4d5c57ea9a6940dd891ad53e9dbe8da0'}\n",
       "23         {'offer id': '2906b810c7d4411798c6938adc9daaa5'}\n",
       "24         {'offer id': '2298d6c36e964ae4a3e7e9706d1fb8c2'}\n",
       "25         {'offer id': '2906b810c7d4411798c6938adc9daaa5'}\n",
       "26         {'offer id': 'f19421c1d4aa40978ebb69ca19b0e20d'}\n",
       "27         {'offer id': 'ae264e3637204a6fb9bb56bc8210ddfd'}\n",
       "28         {'offer id': '9b98b8c7a33c4b65b9aebfe6a799e6d9'}\n",
       "29         {'offer id': 'fafdcd668e3743c1bb461111dcafc2a4'}\n",
       "                                ...                        \n",
       "306504                                     {'amount': 4.89}\n",
       "306505                                     {'amount': 4.48}\n",
       "306506    {'offer_id': 'fafdcd668e3743c1bb461111dcafc2a4...\n",
       "306507     {'offer id': '0b1e1539f2cc45b7b9fa7c272da2e1d7'}\n",
       "306508                                     {'amount': 1.19}\n",
       "306509    {'offer_id': 'fafdcd668e3743c1bb461111dcafc2a4...\n",
       "306510                                    {'amount': 14.31}\n",
       "306511                                     {'amount': 2.37}\n",
       "306512                                     {'amount': 6.92}\n",
       "306513                                    {'amount': 12.73}\n",
       "306514                                      {'amount': 8.2}\n",
       "306515                                      {'amount': 2.6}\n",
       "306516                                      {'amount': 9.2}\n",
       "306517                                     {'amount': 11.7}\n",
       "306518                                    {'amount': 40.67}\n",
       "306519                                    {'amount': 31.13}\n",
       "306520                       {'amount': 1.6400000000000001}\n",
       "306521                                    {'amount': 17.35}\n",
       "306522                                     {'amount': 4.42}\n",
       "306523                                    {'amount': 18.35}\n",
       "306524                                    {'amount': 25.14}\n",
       "306525                                    {'amount': 43.58}\n",
       "306526                                    {'amount': 22.64}\n",
       "306527    {'offer_id': 'fafdcd668e3743c1bb461111dcafc2a4...\n",
       "306528                                      {'amount': 2.2}\n",
       "306529                       {'amount': 1.5899999999999999}\n",
       "306530                                     {'amount': 9.53}\n",
       "306531                                     {'amount': 3.61}\n",
       "306532                       {'amount': 3.5300000000000002}\n",
       "306533                                     {'amount': 4.05}\n",
       "Name: value, Length: 306534, dtype: object"
      ]
     },
     "execution_count": 29,
     "metadata": {},
     "output_type": "execute_result"
    }
   ],
   "source": [
    "trans['value']"
   ]
  },
  {
   "cell_type": "code",
   "execution_count": 30,
   "metadata": {},
   "outputs": [],
   "source": [
    "# breakdown the value column into offer_id and amount columns then drop it\n",
    "\n",
    "trans['offer_id'] = trans['value'].apply(lambda x: x['offer id'] if ('offer id' in x) else x['offer_id'] if ('offer_id' in x) else None)\n",
    "trans['amount'] = trans['value'].apply(lambda x: x['amount'] if ('amount' in x) else None)\n",
    "\n",
    "trans.drop('value', axis = 1, inplace = True)\n"
   ]
  },
  {
   "cell_type": "code",
   "execution_count": 31,
   "metadata": {},
   "outputs": [],
   "source": [
    "# rename the person column to user_id\n",
    "trans.rename(columns = {'person': 'user_id'}, inplace = True)"
   ]
  },
  {
   "cell_type": "code",
   "execution_count": 32,
   "metadata": {},
   "outputs": [
    {
     "data": {
      "text/html": [
       "<div>\n",
       "<style scoped>\n",
       "    .dataframe tbody tr th:only-of-type {\n",
       "        vertical-align: middle;\n",
       "    }\n",
       "\n",
       "    .dataframe tbody tr th {\n",
       "        vertical-align: top;\n",
       "    }\n",
       "\n",
       "    .dataframe thead th {\n",
       "        text-align: right;\n",
       "    }\n",
       "</style>\n",
       "<table border=\"1\" class=\"dataframe\">\n",
       "  <thead>\n",
       "    <tr style=\"text-align: right;\">\n",
       "      <th></th>\n",
       "      <th>event</th>\n",
       "      <th>user_id</th>\n",
       "      <th>time</th>\n",
       "      <th>offer_id</th>\n",
       "      <th>amount</th>\n",
       "    </tr>\n",
       "  </thead>\n",
       "  <tbody>\n",
       "    <tr>\n",
       "      <th>0</th>\n",
       "      <td>offer received</td>\n",
       "      <td>78afa995795e4d85b5d9ceeca43f5fef</td>\n",
       "      <td>0</td>\n",
       "      <td>9b98b8c7a33c4b65b9aebfe6a799e6d9</td>\n",
       "      <td>NaN</td>\n",
       "    </tr>\n",
       "    <tr>\n",
       "      <th>1</th>\n",
       "      <td>offer received</td>\n",
       "      <td>a03223e636434f42ac4c3df47e8bac43</td>\n",
       "      <td>0</td>\n",
       "      <td>0b1e1539f2cc45b7b9fa7c272da2e1d7</td>\n",
       "      <td>NaN</td>\n",
       "    </tr>\n",
       "    <tr>\n",
       "      <th>2</th>\n",
       "      <td>offer received</td>\n",
       "      <td>e2127556f4f64592b11af22de27a7932</td>\n",
       "      <td>0</td>\n",
       "      <td>2906b810c7d4411798c6938adc9daaa5</td>\n",
       "      <td>NaN</td>\n",
       "    </tr>\n",
       "    <tr>\n",
       "      <th>3</th>\n",
       "      <td>offer received</td>\n",
       "      <td>8ec6ce2a7e7949b1bf142def7d0e0586</td>\n",
       "      <td>0</td>\n",
       "      <td>fafdcd668e3743c1bb461111dcafc2a4</td>\n",
       "      <td>NaN</td>\n",
       "    </tr>\n",
       "    <tr>\n",
       "      <th>4</th>\n",
       "      <td>offer received</td>\n",
       "      <td>68617ca6246f4fbc85e91a2a49552598</td>\n",
       "      <td>0</td>\n",
       "      <td>4d5c57ea9a6940dd891ad53e9dbe8da0</td>\n",
       "      <td>NaN</td>\n",
       "    </tr>\n",
       "  </tbody>\n",
       "</table>\n",
       "</div>"
      ],
      "text/plain": [
       "            event                           user_id  time  \\\n",
       "0  offer received  78afa995795e4d85b5d9ceeca43f5fef     0   \n",
       "1  offer received  a03223e636434f42ac4c3df47e8bac43     0   \n",
       "2  offer received  e2127556f4f64592b11af22de27a7932     0   \n",
       "3  offer received  8ec6ce2a7e7949b1bf142def7d0e0586     0   \n",
       "4  offer received  68617ca6246f4fbc85e91a2a49552598     0   \n",
       "\n",
       "                           offer_id  amount  \n",
       "0  9b98b8c7a33c4b65b9aebfe6a799e6d9     NaN  \n",
       "1  0b1e1539f2cc45b7b9fa7c272da2e1d7     NaN  \n",
       "2  2906b810c7d4411798c6938adc9daaa5     NaN  \n",
       "3  fafdcd668e3743c1bb461111dcafc2a4     NaN  \n",
       "4  4d5c57ea9a6940dd891ad53e9dbe8da0     NaN  "
      ]
     },
     "execution_count": 32,
     "metadata": {},
     "output_type": "execute_result"
    }
   ],
   "source": [
    "trans.head()"
   ]
  },
  {
   "cell_type": "markdown",
   "metadata": {},
   "source": [
    "## Merging all the cleaned dataframes into one"
   ]
  },
  {
   "cell_type": "code",
   "execution_count": 33,
   "metadata": {},
   "outputs": [],
   "source": [
    "# merge the transcript and profile dataframes\n",
    "df = trans.merge(pro, on='user_id')\n",
    "\n",
    "# merge with the portfolio dataframe\n",
    "df = df.merge(port, how='left', on='offer_id')"
   ]
  },
  {
   "cell_type": "code",
   "execution_count": 34,
   "metadata": {},
   "outputs": [
    {
     "data": {
      "text/html": [
       "<div>\n",
       "<style scoped>\n",
       "    .dataframe tbody tr th:only-of-type {\n",
       "        vertical-align: middle;\n",
       "    }\n",
       "\n",
       "    .dataframe tbody tr th {\n",
       "        vertical-align: top;\n",
       "    }\n",
       "\n",
       "    .dataframe thead th {\n",
       "        text-align: right;\n",
       "    }\n",
       "</style>\n",
       "<table border=\"1\" class=\"dataframe\">\n",
       "  <thead>\n",
       "    <tr style=\"text-align: right;\">\n",
       "      <th></th>\n",
       "      <th>event</th>\n",
       "      <th>user_id</th>\n",
       "      <th>time</th>\n",
       "      <th>offer_id</th>\n",
       "      <th>amount</th>\n",
       "      <th>age</th>\n",
       "      <th>gender</th>\n",
       "      <th>income</th>\n",
       "      <th>member_duration</th>\n",
       "      <th>difficulty</th>\n",
       "      <th>duration</th>\n",
       "      <th>offer_type</th>\n",
       "      <th>reward</th>\n",
       "      <th>web</th>\n",
       "      <th>email</th>\n",
       "      <th>mobile</th>\n",
       "      <th>social</th>\n",
       "    </tr>\n",
       "  </thead>\n",
       "  <tbody>\n",
       "    <tr>\n",
       "      <th>0</th>\n",
       "      <td>offer received</td>\n",
       "      <td>78afa995795e4d85b5d9ceeca43f5fef</td>\n",
       "      <td>0</td>\n",
       "      <td>9b98b8c7a33c4b65b9aebfe6a799e6d9</td>\n",
       "      <td>NaN</td>\n",
       "      <td>75</td>\n",
       "      <td>0</td>\n",
       "      <td>100000.0</td>\n",
       "      <td>1535</td>\n",
       "      <td>5.0</td>\n",
       "      <td>7.0</td>\n",
       "      <td>0.0</td>\n",
       "      <td>5.0</td>\n",
       "      <td>1.0</td>\n",
       "      <td>1.0</td>\n",
       "      <td>1.0</td>\n",
       "      <td>0.0</td>\n",
       "    </tr>\n",
       "    <tr>\n",
       "      <th>1</th>\n",
       "      <td>offer viewed</td>\n",
       "      <td>78afa995795e4d85b5d9ceeca43f5fef</td>\n",
       "      <td>6</td>\n",
       "      <td>9b98b8c7a33c4b65b9aebfe6a799e6d9</td>\n",
       "      <td>NaN</td>\n",
       "      <td>75</td>\n",
       "      <td>0</td>\n",
       "      <td>100000.0</td>\n",
       "      <td>1535</td>\n",
       "      <td>5.0</td>\n",
       "      <td>7.0</td>\n",
       "      <td>0.0</td>\n",
       "      <td>5.0</td>\n",
       "      <td>1.0</td>\n",
       "      <td>1.0</td>\n",
       "      <td>1.0</td>\n",
       "      <td>0.0</td>\n",
       "    </tr>\n",
       "    <tr>\n",
       "      <th>2</th>\n",
       "      <td>transaction</td>\n",
       "      <td>78afa995795e4d85b5d9ceeca43f5fef</td>\n",
       "      <td>132</td>\n",
       "      <td>None</td>\n",
       "      <td>19.89</td>\n",
       "      <td>75</td>\n",
       "      <td>0</td>\n",
       "      <td>100000.0</td>\n",
       "      <td>1535</td>\n",
       "      <td>NaN</td>\n",
       "      <td>NaN</td>\n",
       "      <td>NaN</td>\n",
       "      <td>NaN</td>\n",
       "      <td>NaN</td>\n",
       "      <td>NaN</td>\n",
       "      <td>NaN</td>\n",
       "      <td>NaN</td>\n",
       "    </tr>\n",
       "    <tr>\n",
       "      <th>3</th>\n",
       "      <td>offer completed</td>\n",
       "      <td>78afa995795e4d85b5d9ceeca43f5fef</td>\n",
       "      <td>132</td>\n",
       "      <td>9b98b8c7a33c4b65b9aebfe6a799e6d9</td>\n",
       "      <td>NaN</td>\n",
       "      <td>75</td>\n",
       "      <td>0</td>\n",
       "      <td>100000.0</td>\n",
       "      <td>1535</td>\n",
       "      <td>5.0</td>\n",
       "      <td>7.0</td>\n",
       "      <td>0.0</td>\n",
       "      <td>5.0</td>\n",
       "      <td>1.0</td>\n",
       "      <td>1.0</td>\n",
       "      <td>1.0</td>\n",
       "      <td>0.0</td>\n",
       "    </tr>\n",
       "    <tr>\n",
       "      <th>4</th>\n",
       "      <td>transaction</td>\n",
       "      <td>78afa995795e4d85b5d9ceeca43f5fef</td>\n",
       "      <td>144</td>\n",
       "      <td>None</td>\n",
       "      <td>17.78</td>\n",
       "      <td>75</td>\n",
       "      <td>0</td>\n",
       "      <td>100000.0</td>\n",
       "      <td>1535</td>\n",
       "      <td>NaN</td>\n",
       "      <td>NaN</td>\n",
       "      <td>NaN</td>\n",
       "      <td>NaN</td>\n",
       "      <td>NaN</td>\n",
       "      <td>NaN</td>\n",
       "      <td>NaN</td>\n",
       "      <td>NaN</td>\n",
       "    </tr>\n",
       "  </tbody>\n",
       "</table>\n",
       "</div>"
      ],
      "text/plain": [
       "             event                           user_id  time  \\\n",
       "0   offer received  78afa995795e4d85b5d9ceeca43f5fef     0   \n",
       "1     offer viewed  78afa995795e4d85b5d9ceeca43f5fef     6   \n",
       "2      transaction  78afa995795e4d85b5d9ceeca43f5fef   132   \n",
       "3  offer completed  78afa995795e4d85b5d9ceeca43f5fef   132   \n",
       "4      transaction  78afa995795e4d85b5d9ceeca43f5fef   144   \n",
       "\n",
       "                           offer_id  amount  age  gender    income  \\\n",
       "0  9b98b8c7a33c4b65b9aebfe6a799e6d9     NaN   75       0  100000.0   \n",
       "1  9b98b8c7a33c4b65b9aebfe6a799e6d9     NaN   75       0  100000.0   \n",
       "2                              None   19.89   75       0  100000.0   \n",
       "3  9b98b8c7a33c4b65b9aebfe6a799e6d9     NaN   75       0  100000.0   \n",
       "4                              None   17.78   75       0  100000.0   \n",
       "\n",
       "   member_duration  difficulty  duration  offer_type  reward  web  email  \\\n",
       "0             1535         5.0       7.0         0.0     5.0  1.0    1.0   \n",
       "1             1535         5.0       7.0         0.0     5.0  1.0    1.0   \n",
       "2             1535         NaN       NaN         NaN     NaN  NaN    NaN   \n",
       "3             1535         5.0       7.0         0.0     5.0  1.0    1.0   \n",
       "4             1535         NaN       NaN         NaN     NaN  NaN    NaN   \n",
       "\n",
       "   mobile  social  \n",
       "0     1.0     0.0  \n",
       "1     1.0     0.0  \n",
       "2     NaN     NaN  \n",
       "3     1.0     0.0  \n",
       "4     NaN     NaN  "
      ]
     },
     "execution_count": 34,
     "metadata": {},
     "output_type": "execute_result"
    }
   ],
   "source": [
    "df.head()"
   ]
  },
  {
   "cell_type": "markdown",
   "metadata": {},
   "source": [
    "# Continued Exploration of Data"
   ]
  },
  {
   "cell_type": "code",
   "execution_count": 35,
   "metadata": {},
   "outputs": [
    {
     "data": {
      "text/plain": [
       "1.0    17186\n",
       "0.0    15258\n",
       "Name: offer_type, dtype: int64"
      ]
     },
     "execution_count": 35,
     "metadata": {},
     "output_type": "execute_result"
    }
   ],
   "source": [
    "df[df['event'] == 'offer completed']['offer_type'].value_counts()"
   ]
  },
  {
   "cell_type": "code",
   "execution_count": 36,
   "metadata": {},
   "outputs": [
    {
     "data": {
      "text/plain": [
       "0.0    63834\n",
       "1.0    62311\n",
       "2.0    22660\n",
       "Name: offer_type, dtype: int64"
      ]
     },
     "execution_count": 36,
     "metadata": {},
     "output_type": "execute_result"
    }
   ],
   "source": [
    "df['offer_type'].value_counts()"
   ]
  },
  {
   "cell_type": "code",
   "execution_count": 37,
   "metadata": {},
   "outputs": [
    {
     "data": {
      "image/png": "[encoded data removed]",
      "text/plain": [
       "<Figure size 432x288 with 1 Axes>"
      ]
     },
     "metadata": {
      "needs_background": "light"
     },
     "output_type": "display_data"
    }
   ],
   "source": [
    "# explore offer type distribution\n",
    "sns.barplot(x = ['bogo', 'discount', 'informational'], y = df['offer_type'].value_counts(), color = 'steelblue').set(xlabel='Offer Type', ylabel='Count', title='Offer Type Distribution') ;\n"
   ]
  },
  {
   "cell_type": "code",
   "execution_count": 38,
   "metadata": {},
   "outputs": [
    {
     "data": {
      "image/png": "[encoded data removed]",
      "text/plain": [
       "<Figure size 432x288 with 1 Axes>"
      ]
     },
     "metadata": {
      "needs_background": "light"
     },
     "output_type": "display_data"
    }
   ],
   "source": [
    "# explore completed offers distribution\n",
    "sns.barplot(x=['bogo', 'discount'], y = df[df['event'] == 'offer completed']['offer_type'].value_counts(), color = 'steelblue').set(xlabel='Offer Type', ylabel='Count', title='Completed Offer Distribution');\n"
   ]
  },
  {
   "cell_type": "code",
   "execution_count": 39,
   "metadata": {},
   "outputs": [
    {
     "data": {
      "image/png": "[encoded data removed]",
      "text/plain": [
       "<Figure size 432x288 with 1 Axes>"
      ]
     },
     "metadata": {
      "needs_background": "light"
     },
     "output_type": "display_data"
    }
   ],
   "source": [
    "y = port[['web', 'email', 'mobile', 'social']].sum()\n",
    "sns.barplot(x = ['web', 'email', 'mobile', 'social'], y = y, color = 'steelblue').set(xlabel='Communication Channel', ylabel='Count', title='Communication Channel Use');"
   ]
  },
  {
   "cell_type": "code",
   "execution_count": 40,
   "metadata": {},
   "outputs": [
    {
     "data": {
      "image/png": "[encoded data removed]",
      "text/plain": [
       "<Figure size 432x288 with 1 Axes>"
      ]
     },
     "metadata": {
      "needs_background": "light"
     },
     "output_type": "display_data"
    }
   ],
   "source": [
    "y = df.groupby('gender')['time'].mean()[:2]\n",
    "sns.barplot(x = ['Female', 'Male'], y = y, color = 'steelblue').set(xlabel='Gender', ylabel='Average Time in Hours', title='Average Time to Respond to an Offer per Gender');"
   ]
  },
  {
   "cell_type": "code",
   "execution_count": 41,
   "metadata": {},
   "outputs": [
    {
     "data": {
      "image/png": "[encoded data removed]",
      "text/plain": [
       "<Figure size 432x288 with 1 Axes>"
      ]
     },
     "metadata": {
      "needs_background": "light"
     },
     "output_type": "display_data"
    }
   ],
   "source": [
    "y = df.groupby('gender')['income'].mean()[:2]\n",
    "sns.barplot(x = ['Female', 'Male'], y = y, color = 'steelblue').set(xlabel='Gender', ylabel='Average Income', title='Average Income Per Gender');"
   ]
  },
  {
   "cell_type": "code",
   "execution_count": 42,
   "metadata": {},
   "outputs": [
    {
     "data": {
      "image/png": "[encoded data removed]",
      "text/plain": [
       "<Figure size 432x288 with 1 Axes>"
      ]
     },
     "metadata": {
      "needs_background": "light"
     },
     "output_type": "display_data"
    }
   ],
   "source": [
    "# who is more likely to complete an offer; female vs. male\n",
    "sns.barplot(x = ['Female', 'Male'], y = df[df['event'] == 'offer completed']['gender'].value_counts()[:2], color = 'steelblue').set(xlabel='Gender', ylabel='Count', title='Number of Completed Offers') ;"
   ]
  },
  {
   "cell_type": "markdown",
   "metadata": {},
   "source": [
    "# Data Modeling"
   ]
  },
  {
   "cell_type": "markdown",
   "metadata": {},
   "source": [
    "## The target of our data modeling stage is to predict whether or not someone will respond to (i.e., complete) an offer or only view it"
   ]
  },
  {
   "cell_type": "code",
   "execution_count": 43,
   "metadata": {},
   "outputs": [],
   "source": [
    "# make a copy of the original dataframe for final processing before modeling\n",
    "data = df.copy() "
   ]
  },
  {
   "cell_type": "code",
   "execution_count": 44,
   "metadata": {},
   "outputs": [],
   "source": [
    "# Converting offer_id values into integer values\n",
    "data['offer_id'] = data['offer_id'].astype('category')\n",
    "data['offer_id'] = data['offer_id'].cat.codes"
   ]
  },
  {
   "cell_type": "code",
   "execution_count": 45,
   "metadata": {},
   "outputs": [
    {
     "data": {
      "text/html": [
       "<div>\n",
       "<style scoped>\n",
       "    .dataframe tbody tr th:only-of-type {\n",
       "        vertical-align: middle;\n",
       "    }\n",
       "\n",
       "    .dataframe tbody tr th {\n",
       "        vertical-align: top;\n",
       "    }\n",
       "\n",
       "    .dataframe thead th {\n",
       "        text-align: right;\n",
       "    }\n",
       "</style>\n",
       "<table border=\"1\" class=\"dataframe\">\n",
       "  <thead>\n",
       "    <tr style=\"text-align: right;\">\n",
       "      <th></th>\n",
       "      <th>event</th>\n",
       "      <th>user_id</th>\n",
       "      <th>time</th>\n",
       "      <th>offer_id</th>\n",
       "      <th>amount</th>\n",
       "      <th>age</th>\n",
       "      <th>gender</th>\n",
       "      <th>income</th>\n",
       "      <th>member_duration</th>\n",
       "      <th>difficulty</th>\n",
       "      <th>duration</th>\n",
       "      <th>offer_type</th>\n",
       "      <th>reward</th>\n",
       "      <th>web</th>\n",
       "      <th>email</th>\n",
       "      <th>mobile</th>\n",
       "      <th>social</th>\n",
       "    </tr>\n",
       "  </thead>\n",
       "  <tbody>\n",
       "    <tr>\n",
       "      <th>0</th>\n",
       "      <td>offer received</td>\n",
       "      <td>78afa995795e4d85b5d9ceeca43f5fef</td>\n",
       "      <td>0</td>\n",
       "      <td>6</td>\n",
       "      <td>NaN</td>\n",
       "      <td>75</td>\n",
       "      <td>0</td>\n",
       "      <td>100000.0</td>\n",
       "      <td>1535</td>\n",
       "      <td>5.0</td>\n",
       "      <td>7.0</td>\n",
       "      <td>0.0</td>\n",
       "      <td>5.0</td>\n",
       "      <td>1.0</td>\n",
       "      <td>1.0</td>\n",
       "      <td>1.0</td>\n",
       "      <td>0.0</td>\n",
       "    </tr>\n",
       "    <tr>\n",
       "      <th>1</th>\n",
       "      <td>offer viewed</td>\n",
       "      <td>78afa995795e4d85b5d9ceeca43f5fef</td>\n",
       "      <td>6</td>\n",
       "      <td>6</td>\n",
       "      <td>NaN</td>\n",
       "      <td>75</td>\n",
       "      <td>0</td>\n",
       "      <td>100000.0</td>\n",
       "      <td>1535</td>\n",
       "      <td>5.0</td>\n",
       "      <td>7.0</td>\n",
       "      <td>0.0</td>\n",
       "      <td>5.0</td>\n",
       "      <td>1.0</td>\n",
       "      <td>1.0</td>\n",
       "      <td>1.0</td>\n",
       "      <td>0.0</td>\n",
       "    </tr>\n",
       "    <tr>\n",
       "      <th>2</th>\n",
       "      <td>transaction</td>\n",
       "      <td>78afa995795e4d85b5d9ceeca43f5fef</td>\n",
       "      <td>132</td>\n",
       "      <td>-1</td>\n",
       "      <td>19.89</td>\n",
       "      <td>75</td>\n",
       "      <td>0</td>\n",
       "      <td>100000.0</td>\n",
       "      <td>1535</td>\n",
       "      <td>NaN</td>\n",
       "      <td>NaN</td>\n",
       "      <td>NaN</td>\n",
       "      <td>NaN</td>\n",
       "      <td>NaN</td>\n",
       "      <td>NaN</td>\n",
       "      <td>NaN</td>\n",
       "      <td>NaN</td>\n",
       "    </tr>\n",
       "    <tr>\n",
       "      <th>3</th>\n",
       "      <td>offer completed</td>\n",
       "      <td>78afa995795e4d85b5d9ceeca43f5fef</td>\n",
       "      <td>132</td>\n",
       "      <td>6</td>\n",
       "      <td>NaN</td>\n",
       "      <td>75</td>\n",
       "      <td>0</td>\n",
       "      <td>100000.0</td>\n",
       "      <td>1535</td>\n",
       "      <td>5.0</td>\n",
       "      <td>7.0</td>\n",
       "      <td>0.0</td>\n",
       "      <td>5.0</td>\n",
       "      <td>1.0</td>\n",
       "      <td>1.0</td>\n",
       "      <td>1.0</td>\n",
       "      <td>0.0</td>\n",
       "    </tr>\n",
       "    <tr>\n",
       "      <th>4</th>\n",
       "      <td>transaction</td>\n",
       "      <td>78afa995795e4d85b5d9ceeca43f5fef</td>\n",
       "      <td>144</td>\n",
       "      <td>-1</td>\n",
       "      <td>17.78</td>\n",
       "      <td>75</td>\n",
       "      <td>0</td>\n",
       "      <td>100000.0</td>\n",
       "      <td>1535</td>\n",
       "      <td>NaN</td>\n",
       "      <td>NaN</td>\n",
       "      <td>NaN</td>\n",
       "      <td>NaN</td>\n",
       "      <td>NaN</td>\n",
       "      <td>NaN</td>\n",
       "      <td>NaN</td>\n",
       "      <td>NaN</td>\n",
       "    </tr>\n",
       "  </tbody>\n",
       "</table>\n",
       "</div>"
      ],
      "text/plain": [
       "             event                           user_id  time  offer_id  amount  \\\n",
       "0   offer received  78afa995795e4d85b5d9ceeca43f5fef     0         6     NaN   \n",
       "1     offer viewed  78afa995795e4d85b5d9ceeca43f5fef     6         6     NaN   \n",
       "2      transaction  78afa995795e4d85b5d9ceeca43f5fef   132        -1   19.89   \n",
       "3  offer completed  78afa995795e4d85b5d9ceeca43f5fef   132         6     NaN   \n",
       "4      transaction  78afa995795e4d85b5d9ceeca43f5fef   144        -1   17.78   \n",
       "\n",
       "   age  gender    income  member_duration  difficulty  duration  offer_type  \\\n",
       "0   75       0  100000.0             1535         5.0       7.0         0.0   \n",
       "1   75       0  100000.0             1535         5.0       7.0         0.0   \n",
       "2   75       0  100000.0             1535         NaN       NaN         NaN   \n",
       "3   75       0  100000.0             1535         5.0       7.0         0.0   \n",
       "4   75       0  100000.0             1535         NaN       NaN         NaN   \n",
       "\n",
       "   reward  web  email  mobile  social  \n",
       "0     5.0  1.0    1.0     1.0     0.0  \n",
       "1     5.0  1.0    1.0     1.0     0.0  \n",
       "2     NaN  NaN    NaN     NaN     NaN  \n",
       "3     5.0  1.0    1.0     1.0     0.0  \n",
       "4     NaN  NaN    NaN     NaN     NaN  "
      ]
     },
     "execution_count": 45,
     "metadata": {},
     "output_type": "execute_result"
    }
   ],
   "source": [
    "data.head()"
   ]
  },
  {
   "cell_type": "code",
   "execution_count": 46,
   "metadata": {},
   "outputs": [],
   "source": [
    "# Keep only records with either offer viewed or completed\n",
    "data = data[(data['event'] != 'offer received') & (data['event'] != 'transaction')]"
   ]
  },
  {
   "cell_type": "code",
   "execution_count": 47,
   "metadata": {},
   "outputs": [
    {
     "name": "stdout",
     "output_type": "stream",
     "text": [
      "Index(['offer completed', 'offer viewed'], dtype='object')\n"
     ]
    }
   ],
   "source": [
    "# Map the events to integer values\n",
    "data['event'] = data['event'].astype('category')\n",
    "print(data['event'].cat.categories)\n",
    "data['event'] = data['event'].cat.codes"
   ]
  },
  {
   "cell_type": "code",
   "execution_count": 48,
   "metadata": {},
   "outputs": [
    {
     "data": {
      "text/html": [
       "<div>\n",
       "<style scoped>\n",
       "    .dataframe tbody tr th:only-of-type {\n",
       "        vertical-align: middle;\n",
       "    }\n",
       "\n",
       "    .dataframe tbody tr th {\n",
       "        vertical-align: top;\n",
       "    }\n",
       "\n",
       "    .dataframe thead th {\n",
       "        text-align: right;\n",
       "    }\n",
       "</style>\n",
       "<table border=\"1\" class=\"dataframe\">\n",
       "  <thead>\n",
       "    <tr style=\"text-align: right;\">\n",
       "      <th></th>\n",
       "      <th>event</th>\n",
       "      <th>user_id</th>\n",
       "      <th>time</th>\n",
       "      <th>offer_id</th>\n",
       "      <th>amount</th>\n",
       "      <th>age</th>\n",
       "      <th>gender</th>\n",
       "      <th>income</th>\n",
       "      <th>member_duration</th>\n",
       "      <th>difficulty</th>\n",
       "      <th>duration</th>\n",
       "      <th>offer_type</th>\n",
       "      <th>reward</th>\n",
       "      <th>web</th>\n",
       "      <th>email</th>\n",
       "      <th>mobile</th>\n",
       "      <th>social</th>\n",
       "    </tr>\n",
       "  </thead>\n",
       "  <tbody>\n",
       "    <tr>\n",
       "      <th>1</th>\n",
       "      <td>1</td>\n",
       "      <td>78afa995795e4d85b5d9ceeca43f5fef</td>\n",
       "      <td>6</td>\n",
       "      <td>6</td>\n",
       "      <td>NaN</td>\n",
       "      <td>75</td>\n",
       "      <td>0</td>\n",
       "      <td>100000.0</td>\n",
       "      <td>1535</td>\n",
       "      <td>5.0</td>\n",
       "      <td>7.0</td>\n",
       "      <td>0.0</td>\n",
       "      <td>5.0</td>\n",
       "      <td>1.0</td>\n",
       "      <td>1.0</td>\n",
       "      <td>1.0</td>\n",
       "      <td>0.0</td>\n",
       "    </tr>\n",
       "    <tr>\n",
       "      <th>3</th>\n",
       "      <td>0</td>\n",
       "      <td>78afa995795e4d85b5d9ceeca43f5fef</td>\n",
       "      <td>132</td>\n",
       "      <td>6</td>\n",
       "      <td>NaN</td>\n",
       "      <td>75</td>\n",
       "      <td>0</td>\n",
       "      <td>100000.0</td>\n",
       "      <td>1535</td>\n",
       "      <td>5.0</td>\n",
       "      <td>7.0</td>\n",
       "      <td>0.0</td>\n",
       "      <td>5.0</td>\n",
       "      <td>1.0</td>\n",
       "      <td>1.0</td>\n",
       "      <td>1.0</td>\n",
       "      <td>0.0</td>\n",
       "    </tr>\n",
       "    <tr>\n",
       "      <th>6</th>\n",
       "      <td>1</td>\n",
       "      <td>78afa995795e4d85b5d9ceeca43f5fef</td>\n",
       "      <td>216</td>\n",
       "      <td>5</td>\n",
       "      <td>NaN</td>\n",
       "      <td>75</td>\n",
       "      <td>0</td>\n",
       "      <td>100000.0</td>\n",
       "      <td>1535</td>\n",
       "      <td>0.0</td>\n",
       "      <td>3.0</td>\n",
       "      <td>2.0</td>\n",
       "      <td>0.0</td>\n",
       "      <td>0.0</td>\n",
       "      <td>1.0</td>\n",
       "      <td>1.0</td>\n",
       "      <td>1.0</td>\n",
       "    </tr>\n",
       "    <tr>\n",
       "      <th>11</th>\n",
       "      <td>1</td>\n",
       "      <td>78afa995795e4d85b5d9ceeca43f5fef</td>\n",
       "      <td>408</td>\n",
       "      <td>7</td>\n",
       "      <td>NaN</td>\n",
       "      <td>75</td>\n",
       "      <td>0</td>\n",
       "      <td>100000.0</td>\n",
       "      <td>1535</td>\n",
       "      <td>10.0</td>\n",
       "      <td>7.0</td>\n",
       "      <td>0.0</td>\n",
       "      <td>10.0</td>\n",
       "      <td>0.0</td>\n",
       "      <td>1.0</td>\n",
       "      <td>1.0</td>\n",
       "      <td>1.0</td>\n",
       "    </tr>\n",
       "    <tr>\n",
       "      <th>14</th>\n",
       "      <td>0</td>\n",
       "      <td>78afa995795e4d85b5d9ceeca43f5fef</td>\n",
       "      <td>510</td>\n",
       "      <td>7</td>\n",
       "      <td>NaN</td>\n",
       "      <td>75</td>\n",
       "      <td>0</td>\n",
       "      <td>100000.0</td>\n",
       "      <td>1535</td>\n",
       "      <td>10.0</td>\n",
       "      <td>7.0</td>\n",
       "      <td>0.0</td>\n",
       "      <td>10.0</td>\n",
       "      <td>0.0</td>\n",
       "      <td>1.0</td>\n",
       "      <td>1.0</td>\n",
       "      <td>1.0</td>\n",
       "    </tr>\n",
       "  </tbody>\n",
       "</table>\n",
       "</div>"
      ],
      "text/plain": [
       "    event                           user_id  time  offer_id  amount  age  \\\n",
       "1       1  78afa995795e4d85b5d9ceeca43f5fef     6         6     NaN   75   \n",
       "3       0  78afa995795e4d85b5d9ceeca43f5fef   132         6     NaN   75   \n",
       "6       1  78afa995795e4d85b5d9ceeca43f5fef   216         5     NaN   75   \n",
       "11      1  78afa995795e4d85b5d9ceeca43f5fef   408         7     NaN   75   \n",
       "14      0  78afa995795e4d85b5d9ceeca43f5fef   510         7     NaN   75   \n",
       "\n",
       "    gender    income  member_duration  difficulty  duration  offer_type  \\\n",
       "1        0  100000.0             1535         5.0       7.0         0.0   \n",
       "3        0  100000.0             1535         5.0       7.0         0.0   \n",
       "6        0  100000.0             1535         0.0       3.0         2.0   \n",
       "11       0  100000.0             1535        10.0       7.0         0.0   \n",
       "14       0  100000.0             1535        10.0       7.0         0.0   \n",
       "\n",
       "    reward  web  email  mobile  social  \n",
       "1      5.0  1.0    1.0     1.0     0.0  \n",
       "3      5.0  1.0    1.0     1.0     0.0  \n",
       "6      0.0  0.0    1.0     1.0     1.0  \n",
       "11    10.0  0.0    1.0     1.0     1.0  \n",
       "14    10.0  0.0    1.0     1.0     1.0  "
      ]
     },
     "execution_count": 48,
     "metadata": {},
     "output_type": "execute_result"
    }
   ],
   "source": [
    "data.head()"
   ]
  },
  {
   "cell_type": "code",
   "execution_count": 49,
   "metadata": {},
   "outputs": [
    {
     "data": {
      "text/html": [
       "<div>\n",
       "<style scoped>\n",
       "    .dataframe tbody tr th:only-of-type {\n",
       "        vertical-align: middle;\n",
       "    }\n",
       "\n",
       "    .dataframe tbody tr th {\n",
       "        vertical-align: top;\n",
       "    }\n",
       "\n",
       "    .dataframe thead th {\n",
       "        text-align: right;\n",
       "    }\n",
       "</style>\n",
       "<table border=\"1\" class=\"dataframe\">\n",
       "  <thead>\n",
       "    <tr style=\"text-align: right;\">\n",
       "      <th></th>\n",
       "      <th>event</th>\n",
       "      <th>user_id</th>\n",
       "      <th>time</th>\n",
       "      <th>offer_id</th>\n",
       "      <th>amount</th>\n",
       "      <th>age</th>\n",
       "      <th>gender</th>\n",
       "      <th>income</th>\n",
       "      <th>member_duration</th>\n",
       "      <th>difficulty</th>\n",
       "      <th>duration</th>\n",
       "      <th>offer_type</th>\n",
       "      <th>reward</th>\n",
       "      <th>web</th>\n",
       "      <th>email</th>\n",
       "      <th>mobile</th>\n",
       "      <th>social</th>\n",
       "    </tr>\n",
       "  </thead>\n",
       "  <tbody>\n",
       "    <tr>\n",
       "      <th>1</th>\n",
       "      <td>1</td>\n",
       "      <td>78afa995795e4d85b5d9ceeca43f5fef</td>\n",
       "      <td>0.008403</td>\n",
       "      <td>6</td>\n",
       "      <td>NaN</td>\n",
       "      <td>0.686747</td>\n",
       "      <td>0</td>\n",
       "      <td>0.777778</td>\n",
       "      <td>1535</td>\n",
       "      <td>0.25</td>\n",
       "      <td>0.571429</td>\n",
       "      <td>0.0</td>\n",
       "      <td>0.5</td>\n",
       "      <td>1.0</td>\n",
       "      <td>1.0</td>\n",
       "      <td>1.0</td>\n",
       "      <td>0.0</td>\n",
       "    </tr>\n",
       "    <tr>\n",
       "      <th>3</th>\n",
       "      <td>0</td>\n",
       "      <td>78afa995795e4d85b5d9ceeca43f5fef</td>\n",
       "      <td>0.184874</td>\n",
       "      <td>6</td>\n",
       "      <td>NaN</td>\n",
       "      <td>0.686747</td>\n",
       "      <td>0</td>\n",
       "      <td>0.777778</td>\n",
       "      <td>1535</td>\n",
       "      <td>0.25</td>\n",
       "      <td>0.571429</td>\n",
       "      <td>0.0</td>\n",
       "      <td>0.5</td>\n",
       "      <td>1.0</td>\n",
       "      <td>1.0</td>\n",
       "      <td>1.0</td>\n",
       "      <td>0.0</td>\n",
       "    </tr>\n",
       "    <tr>\n",
       "      <th>6</th>\n",
       "      <td>1</td>\n",
       "      <td>78afa995795e4d85b5d9ceeca43f5fef</td>\n",
       "      <td>0.302521</td>\n",
       "      <td>5</td>\n",
       "      <td>NaN</td>\n",
       "      <td>0.686747</td>\n",
       "      <td>0</td>\n",
       "      <td>0.777778</td>\n",
       "      <td>1535</td>\n",
       "      <td>0.00</td>\n",
       "      <td>0.000000</td>\n",
       "      <td>2.0</td>\n",
       "      <td>0.0</td>\n",
       "      <td>0.0</td>\n",
       "      <td>1.0</td>\n",
       "      <td>1.0</td>\n",
       "      <td>1.0</td>\n",
       "    </tr>\n",
       "    <tr>\n",
       "      <th>11</th>\n",
       "      <td>1</td>\n",
       "      <td>78afa995795e4d85b5d9ceeca43f5fef</td>\n",
       "      <td>0.571429</td>\n",
       "      <td>7</td>\n",
       "      <td>NaN</td>\n",
       "      <td>0.686747</td>\n",
       "      <td>0</td>\n",
       "      <td>0.777778</td>\n",
       "      <td>1535</td>\n",
       "      <td>0.50</td>\n",
       "      <td>0.571429</td>\n",
       "      <td>0.0</td>\n",
       "      <td>1.0</td>\n",
       "      <td>0.0</td>\n",
       "      <td>1.0</td>\n",
       "      <td>1.0</td>\n",
       "      <td>1.0</td>\n",
       "    </tr>\n",
       "    <tr>\n",
       "      <th>14</th>\n",
       "      <td>0</td>\n",
       "      <td>78afa995795e4d85b5d9ceeca43f5fef</td>\n",
       "      <td>0.714286</td>\n",
       "      <td>7</td>\n",
       "      <td>NaN</td>\n",
       "      <td>0.686747</td>\n",
       "      <td>0</td>\n",
       "      <td>0.777778</td>\n",
       "      <td>1535</td>\n",
       "      <td>0.50</td>\n",
       "      <td>0.571429</td>\n",
       "      <td>0.0</td>\n",
       "      <td>1.0</td>\n",
       "      <td>0.0</td>\n",
       "      <td>1.0</td>\n",
       "      <td>1.0</td>\n",
       "      <td>1.0</td>\n",
       "    </tr>\n",
       "  </tbody>\n",
       "</table>\n",
       "</div>"
      ],
      "text/plain": [
       "    event                           user_id      time  offer_id  amount  \\\n",
       "1       1  78afa995795e4d85b5d9ceeca43f5fef  0.008403         6     NaN   \n",
       "3       0  78afa995795e4d85b5d9ceeca43f5fef  0.184874         6     NaN   \n",
       "6       1  78afa995795e4d85b5d9ceeca43f5fef  0.302521         5     NaN   \n",
       "11      1  78afa995795e4d85b5d9ceeca43f5fef  0.571429         7     NaN   \n",
       "14      0  78afa995795e4d85b5d9ceeca43f5fef  0.714286         7     NaN   \n",
       "\n",
       "         age  gender    income  member_duration  difficulty  duration  \\\n",
       "1   0.686747       0  0.777778             1535        0.25  0.571429   \n",
       "3   0.686747       0  0.777778             1535        0.25  0.571429   \n",
       "6   0.686747       0  0.777778             1535        0.00  0.000000   \n",
       "11  0.686747       0  0.777778             1535        0.50  0.571429   \n",
       "14  0.686747       0  0.777778             1535        0.50  0.571429   \n",
       "\n",
       "    offer_type  reward  web  email  mobile  social  \n",
       "1          0.0     0.5  1.0    1.0     1.0     0.0  \n",
       "3          0.0     0.5  1.0    1.0     1.0     0.0  \n",
       "6          2.0     0.0  0.0    1.0     1.0     1.0  \n",
       "11         0.0     1.0  0.0    1.0     1.0     1.0  \n",
       "14         0.0     1.0  0.0    1.0     1.0     1.0  "
      ]
     },
     "execution_count": 49,
     "metadata": {},
     "output_type": "execute_result"
    }
   ],
   "source": [
    "# Normalize the big value numerical columns\n",
    "\n",
    "scaler = MinMaxScaler()\n",
    "n_col = ['time', 'age', 'income', 'difficulty', 'duration', 'reward']\n",
    "data[n_col] = scaler.fit_transform(data[n_col])\n",
    "\n",
    "data.head()"
   ]
  },
  {
   "cell_type": "code",
   "execution_count": 50,
   "metadata": {},
   "outputs": [
    {
     "data": {
      "text/plain": [
       "event                  0\n",
       "user_id                0\n",
       "time                   0\n",
       "offer_id               0\n",
       "amount             82304\n",
       "age                    0\n",
       "gender                 0\n",
       "income                 0\n",
       "member_duration        0\n",
       "difficulty             0\n",
       "duration               0\n",
       "offer_type             0\n",
       "reward                 0\n",
       "web                    0\n",
       "email                  0\n",
       "mobile                 0\n",
       "social                 0\n",
       "dtype: int64"
      ]
     },
     "execution_count": 50,
     "metadata": {},
     "output_type": "execute_result"
    }
   ],
   "source": [
    "# Checking if our dataframe has NaN values\n",
    "data.isnull().sum()"
   ]
  },
  {
   "cell_type": "code",
   "execution_count": 51,
   "metadata": {},
   "outputs": [],
   "source": [
    "# Filling NaN values in the amount column with zero\n",
    "data['amount'] = data['amount'].fillna(0)"
   ]
  },
  {
   "cell_type": "code",
   "execution_count": 52,
   "metadata": {},
   "outputs": [],
   "source": [
    "# Selecting columns for data features and target\n",
    "\n",
    "X = data.drop(['user_id', 'event'], axis=1)\n",
    "\n",
    "y = data['event']"
   ]
  },
  {
   "cell_type": "code",
   "execution_count": 53,
   "metadata": {},
   "outputs": [],
   "source": [
    "# Split data into train and test sets\n",
    "X_train, X_test, y_train, y_test = train_test_split(X, y, test_size=0.3, random_state=42)"
   ]
  },
  {
   "cell_type": "code",
   "execution_count": 54,
   "metadata": {},
   "outputs": [
    {
     "name": "stdout",
     "output_type": "stream",
     "text": [
      "Accuracy on training set:  0.6864368534333125\n",
      "Accuracy on testing set:  0.6722015227604082\n"
     ]
    }
   ],
   "source": [
    "# build a decision tree classifier\n",
    "\n",
    "dt = DecisionTreeClassifier(max_depth=10)\n",
    "\n",
    "dt.fit(X_train, y_train)\n",
    "\n",
    "y_pred_t = dt.predict(X_train)\n",
    "\n",
    "y_pred = dt.predict(X_test)\n",
    "\n",
    "print('Accuracy on training set: ', accuracy_score(y_train, y_pred_t))\n",
    "print('Accuracy on testing set: ', accuracy_score(y_test, y_pred))"
   ]
  },
  {
   "cell_type": "code",
   "execution_count": 55,
   "metadata": {},
   "outputs": [
    {
     "name": "stdout",
     "output_type": "stream",
     "text": [
      "Accuracy on training set:  0.6810907449836839\n",
      "Accuracy on testing set:  0.663696743884659\n"
     ]
    }
   ],
   "source": [
    "# build a random forest classifier\n",
    "\n",
    "rf = RandomForestClassifier(n_estimators=100, max_depth=10)\n",
    "\n",
    "rf.fit(X_train, y_train)\n",
    "\n",
    "y_pred_t = rf.predict(X_train)\n",
    "\n",
    "y_pred = rf.predict(X_test)\n",
    "\n",
    "print('Accuracy on training set: ', accuracy_score(y_train, y_pred_t))\n",
    "print('Accuracy on testing set: ', accuracy_score(y_test, y_pred))"
   ]
  },
  {
   "cell_type": "code",
   "execution_count": 56,
   "metadata": {
    "scrolled": true
   },
   "outputs": [
    {
     "name": "stdout",
     "output_type": "stream",
     "text": [
      "Accuracy on training set:  0.6520516559050198\n",
      "Accuracy on testing set:  0.5885306982018468\n"
     ]
    }
   ],
   "source": [
    "# build a support vector machine classifier\n",
    "\n",
    "svm = SVC()\n",
    "\n",
    "svm.fit(X_train, y_train)\n",
    "\n",
    "y_pred_t = svm.predict(X_train)\n",
    "\n",
    "y_pred = svm.predict(X_test)\n",
    "\n",
    "print('Accuracy on training set: ', accuracy_score(y_train, y_pred_t))\n",
    "print('Accuracy on testing set: ', accuracy_score(y_test, y_pred))\n"
   ]
  },
  {
   "cell_type": "code",
   "execution_count": 57,
   "metadata": {},
   "outputs": [
    {
     "name": "stdout",
     "output_type": "stream",
     "text": [
      "Accuracy on training set:  0.6404568492675137\n",
      "Accuracy on testing set:  0.6430422809006966\n"
     ]
    }
   ],
   "source": [
    "# build a logistic regression classifier\n",
    "\n",
    "logreg = LogisticRegression()\n",
    "\n",
    "logreg.fit(X_train, y_train)\n",
    "\n",
    "y_pred_t = logreg.predict(X_train)\n",
    "\n",
    "y_pred = logreg.predict(X_test)\n",
    "\n",
    "print('Accuracy on training set: ', accuracy_score(y_train, y_pred_t))\n",
    "print('Accuracy on testing set: ', accuracy_score(y_test, y_pred))"
   ]
  },
  {
   "cell_type": "code",
   "execution_count": 58,
   "metadata": {},
   "outputs": [
    {
     "name": "stdout",
     "output_type": "stream",
     "text": [
      "Accuracy on training set:  0.7100083315975838\n",
      "Accuracy on testing set:  0.7062206382634052\n"
     ]
    }
   ],
   "source": [
    "# build a gradient boosting classifier\n",
    "\n",
    "gb = GradientBoostingClassifier(n_estimators=150, learning_rate=1.0, max_depth=2)\n",
    "\n",
    "gb.fit(X_train, y_train)\n",
    "\n",
    "y_pred_t = gb.predict(X_train)\n",
    "\n",
    "y_pred = gb.predict(X_test)\n",
    "\n",
    "print('Accuracy on training set: ', accuracy_score(y_train, y_pred_t))\n",
    "print('Accuracy on testing set: ', accuracy_score(y_test, y_pred))"
   ]
  },
  {
   "cell_type": "code",
   "execution_count": 59,
   "metadata": {},
   "outputs": [
    {
     "name": "stdout",
     "output_type": "stream",
     "text": [
      "Fitting 3 folds for each of 27 candidates, totalling 81 fits\n",
      "[CV] learning_rate=0.01, max_depth=2, n_estimators=100 ...............\n",
      "[CV]  learning_rate=0.01, max_depth=2, n_estimators=100, total=   1.6s\n",
      "[CV] learning_rate=0.01, max_depth=2, n_estimators=100 ...............\n"
     ]
    },
    {
     "name": "stderr",
     "output_type": "stream",
     "text": [
      "[Parallel(n_jobs=-1)]: Done   1 out of   1 | elapsed:    1.6s remaining:    0.0s\n"
     ]
    },
    {
     "name": "stdout",
     "output_type": "stream",
     "text": [
      "[CV]  learning_rate=0.01, max_depth=2, n_estimators=100, total=   1.5s\n",
      "[CV] learning_rate=0.01, max_depth=2, n_estimators=100 ...............\n",
      "[CV]  learning_rate=0.01, max_depth=2, n_estimators=100, total=   1.6s\n",
      "[CV] learning_rate=0.01, max_depth=2, n_estimators=150 ...............\n",
      "[CV]  learning_rate=0.01, max_depth=2, n_estimators=150, total=   2.6s\n",
      "[CV] learning_rate=0.01, max_depth=2, n_estimators=150 ...............\n",
      "[CV]  learning_rate=0.01, max_depth=2, n_estimators=150, total=   2.4s\n",
      "[CV] learning_rate=0.01, max_depth=2, n_estimators=150 ...............\n",
      "[CV]  learning_rate=0.01, max_depth=2, n_estimators=150, total=   2.5s\n",
      "[CV] learning_rate=0.01, max_depth=2, n_estimators=200 ...............\n",
      "[CV]  learning_rate=0.01, max_depth=2, n_estimators=200, total=   3.4s\n",
      "[CV] learning_rate=0.01, max_depth=2, n_estimators=200 ...............\n",
      "[CV]  learning_rate=0.01, max_depth=2, n_estimators=200, total=   3.4s\n",
      "[CV] learning_rate=0.01, max_depth=2, n_estimators=200 ...............\n",
      "[CV]  learning_rate=0.01, max_depth=2, n_estimators=200, total=   3.3s\n",
      "[CV] learning_rate=0.01, max_depth=5, n_estimators=100 ...............\n",
      "[CV]  learning_rate=0.01, max_depth=5, n_estimators=100, total=   4.6s\n",
      "[CV] learning_rate=0.01, max_depth=5, n_estimators=100 ...............\n",
      "[CV]  learning_rate=0.01, max_depth=5, n_estimators=100, total=   4.4s\n",
      "[CV] learning_rate=0.01, max_depth=5, n_estimators=100 ...............\n",
      "[CV]  learning_rate=0.01, max_depth=5, n_estimators=100, total=   4.4s\n",
      "[CV] learning_rate=0.01, max_depth=5, n_estimators=150 ...............\n",
      "[CV]  learning_rate=0.01, max_depth=5, n_estimators=150, total=   6.9s\n",
      "[CV] learning_rate=0.01, max_depth=5, n_estimators=150 ...............\n",
      "[CV]  learning_rate=0.01, max_depth=5, n_estimators=150, total=   6.9s\n",
      "[CV] learning_rate=0.01, max_depth=5, n_estimators=150 ...............\n",
      "[CV]  learning_rate=0.01, max_depth=5, n_estimators=150, total=   6.9s\n",
      "[CV] learning_rate=0.01, max_depth=5, n_estimators=200 ...............\n",
      "[CV]  learning_rate=0.01, max_depth=5, n_estimators=200, total=   9.8s\n",
      "[CV] learning_rate=0.01, max_depth=5, n_estimators=200 ...............\n",
      "[CV]  learning_rate=0.01, max_depth=5, n_estimators=200, total=   9.4s\n",
      "[CV] learning_rate=0.01, max_depth=5, n_estimators=200 ...............\n",
      "[CV]  learning_rate=0.01, max_depth=5, n_estimators=200, total=   9.6s\n",
      "[CV] learning_rate=0.01, max_depth=10, n_estimators=100 ..............\n",
      "[CV]  learning_rate=0.01, max_depth=10, n_estimators=100, total=  31.9s\n",
      "[CV] learning_rate=0.01, max_depth=10, n_estimators=100 ..............\n",
      "[CV]  learning_rate=0.01, max_depth=10, n_estimators=100, total=  31.2s\n",
      "[CV] learning_rate=0.01, max_depth=10, n_estimators=100 ..............\n",
      "[CV]  learning_rate=0.01, max_depth=10, n_estimators=100, total=  30.9s\n",
      "[CV] learning_rate=0.01, max_depth=10, n_estimators=150 ..............\n",
      "[CV]  learning_rate=0.01, max_depth=10, n_estimators=150, total=  49.1s\n",
      "[CV] learning_rate=0.01, max_depth=10, n_estimators=150 ..............\n",
      "[CV]  learning_rate=0.01, max_depth=10, n_estimators=150, total=  47.2s\n",
      "[CV] learning_rate=0.01, max_depth=10, n_estimators=150 ..............\n",
      "[CV]  learning_rate=0.01, max_depth=10, n_estimators=150, total=  47.7s\n",
      "[CV] learning_rate=0.01, max_depth=10, n_estimators=200 ..............\n",
      "[CV]  learning_rate=0.01, max_depth=10, n_estimators=200, total= 1.1min\n",
      "[CV] learning_rate=0.01, max_depth=10, n_estimators=200 ..............\n",
      "[CV]  learning_rate=0.01, max_depth=10, n_estimators=200, total= 1.0min\n",
      "[CV] learning_rate=0.01, max_depth=10, n_estimators=200 ..............\n",
      "[CV]  learning_rate=0.01, max_depth=10, n_estimators=200, total= 1.1min\n",
      "[CV] learning_rate=0.1, max_depth=2, n_estimators=100 ................\n",
      "[CV] . learning_rate=0.1, max_depth=2, n_estimators=100, total=   1.8s\n",
      "[CV] learning_rate=0.1, max_depth=2, n_estimators=100 ................\n",
      "[CV] . learning_rate=0.1, max_depth=2, n_estimators=100, total=   1.8s\n",
      "[CV] learning_rate=0.1, max_depth=2, n_estimators=100 ................\n",
      "[CV] . learning_rate=0.1, max_depth=2, n_estimators=100, total=   1.8s\n",
      "[CV] learning_rate=0.1, max_depth=2, n_estimators=150 ................\n",
      "[CV] . learning_rate=0.1, max_depth=2, n_estimators=150, total=   2.8s\n",
      "[CV] learning_rate=0.1, max_depth=2, n_estimators=150 ................\n",
      "[CV] . learning_rate=0.1, max_depth=2, n_estimators=150, total=   2.7s\n",
      "[CV] learning_rate=0.1, max_depth=2, n_estimators=150 ................\n",
      "[CV] . learning_rate=0.1, max_depth=2, n_estimators=150, total=   2.7s\n",
      "[CV] learning_rate=0.1, max_depth=2, n_estimators=200 ................\n",
      "[CV] . learning_rate=0.1, max_depth=2, n_estimators=200, total=   3.6s\n",
      "[CV] learning_rate=0.1, max_depth=2, n_estimators=200 ................\n",
      "[CV] . learning_rate=0.1, max_depth=2, n_estimators=200, total=   3.7s\n",
      "[CV] learning_rate=0.1, max_depth=2, n_estimators=200 ................\n",
      "[CV] . learning_rate=0.1, max_depth=2, n_estimators=200, total=   3.7s\n",
      "[CV] learning_rate=0.1, max_depth=5, n_estimators=100 ................\n",
      "[CV] . learning_rate=0.1, max_depth=5, n_estimators=100, total=   5.7s\n",
      "[CV] learning_rate=0.1, max_depth=5, n_estimators=100 ................\n",
      "[CV] . learning_rate=0.1, max_depth=5, n_estimators=100, total=   5.6s\n",
      "[CV] learning_rate=0.1, max_depth=5, n_estimators=100 ................\n",
      "[CV] . learning_rate=0.1, max_depth=5, n_estimators=100, total=   5.6s\n",
      "[CV] learning_rate=0.1, max_depth=5, n_estimators=150 ................\n",
      "[CV] . learning_rate=0.1, max_depth=5, n_estimators=150, total=   8.4s\n",
      "[CV] learning_rate=0.1, max_depth=5, n_estimators=150 ................\n",
      "[CV] . learning_rate=0.1, max_depth=5, n_estimators=150, total=   8.5s\n",
      "[CV] learning_rate=0.1, max_depth=5, n_estimators=150 ................\n",
      "[CV] . learning_rate=0.1, max_depth=5, n_estimators=150, total=   8.4s\n",
      "[CV] learning_rate=0.1, max_depth=5, n_estimators=200 ................\n",
      "[CV] . learning_rate=0.1, max_depth=5, n_estimators=200, total=  10.8s\n",
      "[CV] learning_rate=0.1, max_depth=5, n_estimators=200 ................\n",
      "[CV] . learning_rate=0.1, max_depth=5, n_estimators=200, total=  11.3s\n",
      "[CV] learning_rate=0.1, max_depth=5, n_estimators=200 ................\n",
      "[CV] . learning_rate=0.1, max_depth=5, n_estimators=200, total=  10.8s\n",
      "[CV] learning_rate=0.1, max_depth=10, n_estimators=100 ...............\n",
      "[CV]  learning_rate=0.1, max_depth=10, n_estimators=100, total=  37.1s\n",
      "[CV] learning_rate=0.1, max_depth=10, n_estimators=100 ...............\n",
      "[CV]  learning_rate=0.1, max_depth=10, n_estimators=100, total=  34.9s\n",
      "[CV] learning_rate=0.1, max_depth=10, n_estimators=100 ...............\n",
      "[CV]  learning_rate=0.1, max_depth=10, n_estimators=100, total=  37.4s\n",
      "[CV] learning_rate=0.1, max_depth=10, n_estimators=150 ...............\n",
      "[CV]  learning_rate=0.1, max_depth=10, n_estimators=150, total=  55.0s\n",
      "[CV] learning_rate=0.1, max_depth=10, n_estimators=150 ...............\n",
      "[CV]  learning_rate=0.1, max_depth=10, n_estimators=150, total=  56.7s\n",
      "[CV] learning_rate=0.1, max_depth=10, n_estimators=150 ...............\n",
      "[CV]  learning_rate=0.1, max_depth=10, n_estimators=150, total=  56.8s\n",
      "[CV] learning_rate=0.1, max_depth=10, n_estimators=200 ...............\n",
      "[CV]  learning_rate=0.1, max_depth=10, n_estimators=200, total= 1.3min\n",
      "[CV] learning_rate=0.1, max_depth=10, n_estimators=200 ...............\n",
      "[CV]  learning_rate=0.1, max_depth=10, n_estimators=200, total= 1.2min\n",
      "[CV] learning_rate=0.1, max_depth=10, n_estimators=200 ...............\n",
      "[CV]  learning_rate=0.1, max_depth=10, n_estimators=200, total= 1.3min\n",
      "[CV] learning_rate=1.0, max_depth=2, n_estimators=100 ................\n",
      "[CV] . learning_rate=1.0, max_depth=2, n_estimators=100, total=   1.8s\n",
      "[CV] learning_rate=1.0, max_depth=2, n_estimators=100 ................\n",
      "[CV] . learning_rate=1.0, max_depth=2, n_estimators=100, total=   1.9s\n",
      "[CV] learning_rate=1.0, max_depth=2, n_estimators=100 ................\n",
      "[CV] . learning_rate=1.0, max_depth=2, n_estimators=100, total=   1.8s\n",
      "[CV] learning_rate=1.0, max_depth=2, n_estimators=150 ................\n",
      "[CV] . learning_rate=1.0, max_depth=2, n_estimators=150, total=   2.7s\n",
      "[CV] learning_rate=1.0, max_depth=2, n_estimators=150 ................\n",
      "[CV] . learning_rate=1.0, max_depth=2, n_estimators=150, total=   2.7s\n",
      "[CV] learning_rate=1.0, max_depth=2, n_estimators=150 ................\n",
      "[CV] . learning_rate=1.0, max_depth=2, n_estimators=150, total=   2.6s\n",
      "[CV] learning_rate=1.0, max_depth=2, n_estimators=200 ................\n",
      "[CV] . learning_rate=1.0, max_depth=2, n_estimators=200, total=   3.5s\n",
      "[CV] learning_rate=1.0, max_depth=2, n_estimators=200 ................\n",
      "[CV] . learning_rate=1.0, max_depth=2, n_estimators=200, total=   3.7s\n",
      "[CV] learning_rate=1.0, max_depth=2, n_estimators=200 ................\n",
      "[CV] . learning_rate=1.0, max_depth=2, n_estimators=200, total=   3.5s\n",
      "[CV] learning_rate=1.0, max_depth=5, n_estimators=100 ................\n",
      "[CV] . learning_rate=1.0, max_depth=5, n_estimators=100, total=   5.9s\n",
      "[CV] learning_rate=1.0, max_depth=5, n_estimators=100 ................\n",
      "[CV] . learning_rate=1.0, max_depth=5, n_estimators=100, total=   5.9s\n",
      "[CV] learning_rate=1.0, max_depth=5, n_estimators=100 ................\n",
      "[CV] . learning_rate=1.0, max_depth=5, n_estimators=100, total=   5.8s\n",
      "[CV] learning_rate=1.0, max_depth=5, n_estimators=150 ................\n",
      "[CV] . learning_rate=1.0, max_depth=5, n_estimators=150, total=   8.6s\n",
      "[CV] learning_rate=1.0, max_depth=5, n_estimators=150 ................\n",
      "[CV] . learning_rate=1.0, max_depth=5, n_estimators=150, total=   8.8s\n",
      "[CV] learning_rate=1.0, max_depth=5, n_estimators=150 ................\n",
      "[CV] . learning_rate=1.0, max_depth=5, n_estimators=150, total=   8.7s\n",
      "[CV] learning_rate=1.0, max_depth=5, n_estimators=200 ................\n",
      "[CV] . learning_rate=1.0, max_depth=5, n_estimators=200, total=  11.8s\n",
      "[CV] learning_rate=1.0, max_depth=5, n_estimators=200 ................\n",
      "[CV] . learning_rate=1.0, max_depth=5, n_estimators=200, total=  11.8s\n",
      "[CV] learning_rate=1.0, max_depth=5, n_estimators=200 ................\n",
      "[CV] . learning_rate=1.0, max_depth=5, n_estimators=200, total=  11.9s\n",
      "[CV] learning_rate=1.0, max_depth=10, n_estimators=100 ...............\n",
      "[CV]  learning_rate=1.0, max_depth=10, n_estimators=100, total=  46.1s\n",
      "[CV] learning_rate=1.0, max_depth=10, n_estimators=100 ...............\n",
      "[CV]  learning_rate=1.0, max_depth=10, n_estimators=100, total=  45.2s\n",
      "[CV] learning_rate=1.0, max_depth=10, n_estimators=100 ...............\n",
      "[CV]  learning_rate=1.0, max_depth=10, n_estimators=100, total=  46.6s\n",
      "[CV] learning_rate=1.0, max_depth=10, n_estimators=150 ...............\n",
      "[CV]  learning_rate=1.0, max_depth=10, n_estimators=150, total= 1.1min\n",
      "[CV] learning_rate=1.0, max_depth=10, n_estimators=150 ...............\n",
      "[CV]  learning_rate=1.0, max_depth=10, n_estimators=150, total=  56.2s\n",
      "[CV] learning_rate=1.0, max_depth=10, n_estimators=150 ...............\n",
      "[CV]  learning_rate=1.0, max_depth=10, n_estimators=150, total= 1.1min\n",
      "[CV] learning_rate=1.0, max_depth=10, n_estimators=200 ...............\n",
      "[CV]  learning_rate=1.0, max_depth=10, n_estimators=200, total= 1.2min\n",
      "[CV] learning_rate=1.0, max_depth=10, n_estimators=200 ...............\n",
      "[CV]  learning_rate=1.0, max_depth=10, n_estimators=200, total= 1.0min\n",
      "[CV] learning_rate=1.0, max_depth=10, n_estimators=200 ...............\n",
      "[CV]  learning_rate=1.0, max_depth=10, n_estimators=200, total= 1.4min\n"
     ]
    },
    {
     "name": "stderr",
     "output_type": "stream",
     "text": [
      "[Parallel(n_jobs=-1)]: Done  81 out of  81 | elapsed: 29.8min finished\n"
     ]
    },
    {
     "name": "stdout",
     "output_type": "stream",
     "text": [
      "Accuracy on training set:  0.7033777685204471\n",
      "Accuracy on testing set:  0.7052891624817754\n"
     ]
    }
   ],
   "source": [
    "# Create the parameter grid \n",
    "param_grid_gb = {\n",
    "    'n_estimators': [100, 150, 200],\n",
    "    'learning_rate': [0.01, 0.1, 1.0],\n",
    "    'max_depth': [2, 5, 10]\n",
    "}\n",
    "\n",
    "# Create a based model\n",
    "gb = GradientBoostingClassifier()\n",
    "\n",
    "# Instantiate the grid search model\n",
    "grid_search = GridSearchCV(estimator = gb, param_grid = param_grid_gb, \n",
    "                          cv = 3, n_jobs = -1, verbose = 2)\n",
    "\n",
    "grid_search.fit(X_train, y_train)\n",
    "\n",
    "y_pred_t = grid_search.predict(X_train)\n",
    "\n",
    "y_pred = grid_search.predict(X_test)\n",
    "\n",
    "print('Accuracy on training set: ', accuracy_score(y_train, y_pred_t))\n",
    "print('Accuracy on testing set: ', accuracy_score(y_test, y_pred))\n"
   ]
  },
  {
   "cell_type": "code",
   "execution_count": null,
   "metadata": {},
   "outputs": [],
   "source": []
  }
 ],
 "metadata": {
  "kernelspec": {
   "display_name": "Python 3",
   "language": "python",
   "name": "python3"
  },
  "language_info": {
   "codemirror_mode": {
    "name": "ipython",
    "version": 3
   },
   "file_extension": ".py",
   "mimetype": "text/x-python",
   "name": "python",
   "nbconvert_exporter": "python",
   "pygments_lexer": "ipython3",
   "version": "3.6.3"
  }
 },
 "nbformat": 4,
 "nbformat_minor": 2
}
